{
 "cells": [
  {
   "cell_type": "code",
   "execution_count": 1,
   "id": "f97db8b9-aa25-48b8-b731-a9ef0fe540e6",
   "metadata": {},
   "outputs": [],
   "source": [
    "import pandas as pd\n",
    "import numpy as np"
   ]
  },
  {
   "cell_type": "code",
   "execution_count": 5,
   "id": "4379b568-6872-47e0-ae42-22df30d5b744",
   "metadata": {},
   "outputs": [],
   "source": [
    "df = pd.read_csv('dadosPrevisao.csv',parse_dates=True,sep=';')"
   ]
  },
  {
   "cell_type": "code",
   "execution_count": 6,
   "id": "09d37997-03a2-41f3-8b4e-cb259e2fc28e",
   "metadata": {},
   "outputs": [
    {
     "data": {
      "text/html": [
       "<div>\n",
       "<style scoped>\n",
       "    .dataframe tbody tr th:only-of-type {\n",
       "        vertical-align: middle;\n",
       "    }\n",
       "\n",
       "    .dataframe tbody tr th {\n",
       "        vertical-align: top;\n",
       "    }\n",
       "\n",
       "    .dataframe thead th {\n",
       "        text-align: right;\n",
       "    }\n",
       "</style>\n",
       "<table border=\"1\" class=\"dataframe\">\n",
       "  <thead>\n",
       "    <tr style=\"text-align: right;\">\n",
       "      <th></th>\n",
       "      <th>Data</th>\n",
       "      <th>Hora (UTC)</th>\n",
       "      <th>Temp. Ins. (C)</th>\n",
       "      <th>Temp. Max. (C)</th>\n",
       "      <th>Temp. Min. (C)</th>\n",
       "      <th>Umi. Ins. (%)</th>\n",
       "      <th>Umi. Max. (%)</th>\n",
       "      <th>Umi. Min. (%)</th>\n",
       "      <th>Pto Orvalho Ins. (C)</th>\n",
       "      <th>Pto Orvalho Max. (C)</th>\n",
       "      <th>Pto Orvalho Min. (C)</th>\n",
       "      <th>Pressao Ins. (hPa)</th>\n",
       "      <th>Pressao Max. (hPa)</th>\n",
       "      <th>Pressao Min. (hPa)</th>\n",
       "      <th>Vel. Vento (m/s)</th>\n",
       "      <th>Dir. Vento (m/s)</th>\n",
       "      <th>Raj. Vento (m/s)</th>\n",
       "      <th>Radiacao (KJ/m²)</th>\n",
       "      <th>Chuva (mm)</th>\n",
       "    </tr>\n",
       "  </thead>\n",
       "  <tbody>\n",
       "    <tr>\n",
       "      <th>0</th>\n",
       "      <td>25/01/2025</td>\n",
       "      <td>0</td>\n",
       "      <td>23,3</td>\n",
       "      <td>24,3</td>\n",
       "      <td>23,3</td>\n",
       "      <td>68,0</td>\n",
       "      <td>68,0</td>\n",
       "      <td>63,0</td>\n",
       "      <td>17,0</td>\n",
       "      <td>17,0</td>\n",
       "      <td>16,6</td>\n",
       "      <td>887,0</td>\n",
       "      <td>887,0</td>\n",
       "      <td>885,8</td>\n",
       "      <td>1,6</td>\n",
       "      <td>112,0</td>\n",
       "      <td>4,4</td>\n",
       "      <td>NaN</td>\n",
       "      <td>0,0</td>\n",
       "    </tr>\n",
       "    <tr>\n",
       "      <th>1</th>\n",
       "      <td>25/01/2025</td>\n",
       "      <td>100</td>\n",
       "      <td>23,1</td>\n",
       "      <td>23,3</td>\n",
       "      <td>23,0</td>\n",
       "      <td>69,0</td>\n",
       "      <td>70,0</td>\n",
       "      <td>68,0</td>\n",
       "      <td>17,1</td>\n",
       "      <td>17,4</td>\n",
       "      <td>17,0</td>\n",
       "      <td>887,8</td>\n",
       "      <td>887,8</td>\n",
       "      <td>887,0</td>\n",
       "      <td>2,2</td>\n",
       "      <td>104,0</td>\n",
       "      <td>3,9</td>\n",
       "      <td>NaN</td>\n",
       "      <td>0,0</td>\n",
       "    </tr>\n",
       "    <tr>\n",
       "      <th>2</th>\n",
       "      <td>25/01/2025</td>\n",
       "      <td>200</td>\n",
       "      <td>21,8</td>\n",
       "      <td>23,3</td>\n",
       "      <td>21,8</td>\n",
       "      <td>74,0</td>\n",
       "      <td>74,0</td>\n",
       "      <td>68,0</td>\n",
       "      <td>17,1</td>\n",
       "      <td>17,2</td>\n",
       "      <td>16,8</td>\n",
       "      <td>887,8</td>\n",
       "      <td>887,9</td>\n",
       "      <td>887,7</td>\n",
       "      <td>1,3</td>\n",
       "      <td>120,0</td>\n",
       "      <td>4,3</td>\n",
       "      <td>NaN</td>\n",
       "      <td>0,0</td>\n",
       "    </tr>\n",
       "    <tr>\n",
       "      <th>3</th>\n",
       "      <td>25/01/2025</td>\n",
       "      <td>300</td>\n",
       "      <td>22,2</td>\n",
       "      <td>22,2</td>\n",
       "      <td>21,1</td>\n",
       "      <td>70,0</td>\n",
       "      <td>77,0</td>\n",
       "      <td>70,0</td>\n",
       "      <td>16,5</td>\n",
       "      <td>17,2</td>\n",
       "      <td>16,5</td>\n",
       "      <td>888,0</td>\n",
       "      <td>888,0</td>\n",
       "      <td>887,7</td>\n",
       "      <td>1,6</td>\n",
       "      <td>113,0</td>\n",
       "      <td>3,4</td>\n",
       "      <td>NaN</td>\n",
       "      <td>0,0</td>\n",
       "    </tr>\n",
       "    <tr>\n",
       "      <th>4</th>\n",
       "      <td>25/01/2025</td>\n",
       "      <td>400</td>\n",
       "      <td>19,4</td>\n",
       "      <td>22,3</td>\n",
       "      <td>19,4</td>\n",
       "      <td>82,0</td>\n",
       "      <td>82,0</td>\n",
       "      <td>68,0</td>\n",
       "      <td>16,2</td>\n",
       "      <td>16,5</td>\n",
       "      <td>15,8</td>\n",
       "      <td>887,8</td>\n",
       "      <td>888,0</td>\n",
       "      <td>887,7</td>\n",
       "      <td>1,1</td>\n",
       "      <td>134,0</td>\n",
       "      <td>3,7</td>\n",
       "      <td>NaN</td>\n",
       "      <td>0,0</td>\n",
       "    </tr>\n",
       "  </tbody>\n",
       "</table>\n",
       "</div>"
      ],
      "text/plain": [
       "         Data  Hora (UTC) Temp. Ins. (C) Temp. Max. (C) Temp. Min. (C)  \\\n",
       "0  25/01/2025           0           23,3           24,3           23,3   \n",
       "1  25/01/2025         100           23,1           23,3           23,0   \n",
       "2  25/01/2025         200           21,8           23,3           21,8   \n",
       "3  25/01/2025         300           22,2           22,2           21,1   \n",
       "4  25/01/2025         400           19,4           22,3           19,4   \n",
       "\n",
       "  Umi. Ins. (%) Umi. Max. (%) Umi. Min. (%) Pto Orvalho Ins. (C)  \\\n",
       "0          68,0          68,0          63,0                 17,0   \n",
       "1          69,0          70,0          68,0                 17,1   \n",
       "2          74,0          74,0          68,0                 17,1   \n",
       "3          70,0          77,0          70,0                 16,5   \n",
       "4          82,0          82,0          68,0                 16,2   \n",
       "\n",
       "  Pto Orvalho Max. (C) Pto Orvalho Min. (C) Pressao Ins. (hPa)  \\\n",
       "0                 17,0                 16,6              887,0   \n",
       "1                 17,4                 17,0              887,8   \n",
       "2                 17,2                 16,8              887,8   \n",
       "3                 17,2                 16,5              888,0   \n",
       "4                 16,5                 15,8              887,8   \n",
       "\n",
       "  Pressao Max. (hPa) Pressao Min. (hPa) Vel. Vento (m/s) Dir. Vento (m/s)  \\\n",
       "0              887,0              885,8              1,6            112,0   \n",
       "1              887,8              887,0              2,2            104,0   \n",
       "2              887,9              887,7              1,3            120,0   \n",
       "3              888,0              887,7              1,6            113,0   \n",
       "4              888,0              887,7              1,1            134,0   \n",
       "\n",
       "  Raj. Vento (m/s) Radiacao (KJ/m²) Chuva (mm)  \n",
       "0              4,4              NaN        0,0  \n",
       "1              3,9              NaN        0,0  \n",
       "2              4,3              NaN        0,0  \n",
       "3              3,4              NaN        0,0  \n",
       "4              3,7              NaN        0,0  "
      ]
     },
     "execution_count": 6,
     "metadata": {},
     "output_type": "execute_result"
    }
   ],
   "source": [
    "df.head()"
   ]
  },
  {
   "cell_type": "code",
   "execution_count": 9,
   "id": "89dacf0b-d1ed-4661-9a2d-bbf97748832e",
   "metadata": {},
   "outputs": [
    {
     "data": {
      "text/plain": [
       "Data                    0\n",
       "Hora (UTC)              0\n",
       "Temp. Ins. (C)          0\n",
       "Temp. Max. (C)          0\n",
       "Temp. Min. (C)          0\n",
       "Umi. Ins. (%)           0\n",
       "Umi. Max. (%)           0\n",
       "Umi. Min. (%)           0\n",
       "Pto Orvalho Ins. (C)    0\n",
       "Pto Orvalho Max. (C)    0\n",
       "Pto Orvalho Min. (C)    0\n",
       "Pressao Ins. (hPa)      0\n",
       "Pressao Max. (hPa)      0\n",
       "Pressao Min. (hPa)      0\n",
       "Vel. Vento (m/s)        0\n",
       "Dir. Vento (m/s)        0\n",
       "Raj. Vento (m/s)        0\n",
       "Radiacao (KJ/m²)        0\n",
       "Chuva (mm)              0\n",
       "dtype: int64"
      ]
     },
     "execution_count": 9,
     "metadata": {},
     "output_type": "execute_result"
    }
   ],
   "source": [
    "df.isnull().sum()"
   ]
  },
  {
   "cell_type": "code",
   "execution_count": 8,
   "id": "5f6039a6-3dba-4c6a-9c01-443a8a2dc026",
   "metadata": {},
   "outputs": [],
   "source": [
    "df=df.dropna(axis=0)"
   ]
  },
  {
   "cell_type": "code",
   "execution_count": 10,
   "id": "e18dbcf2-72b1-48b9-a523-3e17596d3708",
   "metadata": {},
   "outputs": [],
   "source": [
    "df = df.set_index(df['Data'])"
   ]
  },
  {
   "cell_type": "code",
   "execution_count": 11,
   "id": "f06cbf67-1fbb-451e-868e-26e0a168712e",
   "metadata": {},
   "outputs": [
    {
     "data": {
      "text/plain": [
       "Index(['25/01/2025', '25/01/2025', '25/01/2025', '25/01/2025', '25/01/2025',\n",
       "       '25/01/2025', '25/01/2025', '25/01/2025', '25/01/2025', '25/01/2025',\n",
       "       ...\n",
       "       '25/02/2025', '25/02/2025', '25/02/2025', '25/02/2025', '25/02/2025',\n",
       "       '25/02/2025', '25/02/2025', '25/02/2025', '25/02/2025', '25/02/2025'],\n",
       "      dtype='object', name='Data', length=415)"
      ]
     },
     "execution_count": 11,
     "metadata": {},
     "output_type": "execute_result"
    }
   ],
   "source": [
    "df.index"
   ]
  },
  {
   "cell_type": "code",
   "execution_count": 14,
   "id": "6ffe7438-51ed-4b13-b3d9-247c579734cb",
   "metadata": {},
   "outputs": [],
   "source": [
    "df.index = pd.to_datetime(df.index,format='%Y/%m/%d')"
   ]
  },
  {
   "cell_type": "code",
   "execution_count": 15,
   "id": "51ceea4d-72ba-40ac-8ccc-9e41f8901da1",
   "metadata": {},
   "outputs": [
    {
     "data": {
      "text/plain": [
       "Index(['Data', 'Hora (UTC)', 'Temp. Ins. (C)', 'Temp. Max. (C)',\n",
       "       'Temp. Min. (C)', 'Umi. Ins. (%)', 'Umi. Max. (%)', 'Umi. Min. (%)',\n",
       "       'Pto Orvalho Ins. (C)', 'Pto Orvalho Max. (C)', 'Pto Orvalho Min. (C)',\n",
       "       'Pressao Ins. (hPa)', 'Pressao Max. (hPa)', 'Pressao Min. (hPa)',\n",
       "       'Vel. Vento (m/s)', 'Dir. Vento (m/s)', 'Raj. Vento (m/s)',\n",
       "       'Radiacao (KJ/m²)', 'Chuva (mm)'],\n",
       "      dtype='object')"
      ]
     },
     "execution_count": 15,
     "metadata": {},
     "output_type": "execute_result"
    }
   ],
   "source": [
    "df.columns"
   ]
  },
  {
   "cell_type": "code",
   "execution_count": 16,
   "id": "113c7ebc-a721-4503-8f23-b894da25e7a6",
   "metadata": {},
   "outputs": [
    {
     "data": {
      "text/plain": [
       "DatetimeIndex(['2025-01-25', '2025-01-25', '2025-01-25', '2025-01-25',\n",
       "               '2025-01-25', '2025-01-25', '2025-01-25', '2025-01-25',\n",
       "               '2025-01-25', '2025-01-25',\n",
       "               ...\n",
       "               '2025-02-25', '2025-02-25', '2025-02-25', '2025-02-25',\n",
       "               '2025-02-25', '2025-02-25', '2025-02-25', '2025-02-25',\n",
       "               '2025-02-25', '2025-02-25'],\n",
       "              dtype='datetime64[ns]', name='Data', length=415, freq=None)"
      ]
     },
     "execution_count": 16,
     "metadata": {},
     "output_type": "execute_result"
    }
   ],
   "source": [
    "df.index"
   ]
  },
  {
   "cell_type": "code",
   "execution_count": 18,
   "id": "9f47c86c-5380-4f66-bb90-26965ccdbd79",
   "metadata": {},
   "outputs": [],
   "source": [
    "df = df.drop(['Data', 'Hora (UTC)', 'Temp. Max. (C)',\n",
    "       'Temp. Min. (C)', 'Umi. Ins. (%)', 'Umi. Max. (%)', 'Umi. Min. (%)',\n",
    "       'Pto Orvalho Ins. (C)', 'Pto Orvalho Max. (C)', 'Pto Orvalho Min. (C)',\n",
    "       'Pressao Ins. (hPa)', 'Pressao Max. (hPa)', 'Pressao Min. (hPa)',\n",
    "       'Vel. Vento (m/s)', 'Dir. Vento (m/s)', 'Raj. Vento (m/s)',\n",
    "       'Radiacao (KJ/m²)', 'Chuva (mm)'],axis=1)"
   ]
  },
  {
   "cell_type": "code",
   "execution_count": 19,
   "id": "6b635eac-8a4d-47e6-97f3-584a670fda50",
   "metadata": {},
   "outputs": [
    {
     "data": {
      "text/html": [
       "<div>\n",
       "<style scoped>\n",
       "    .dataframe tbody tr th:only-of-type {\n",
       "        vertical-align: middle;\n",
       "    }\n",
       "\n",
       "    .dataframe tbody tr th {\n",
       "        vertical-align: top;\n",
       "    }\n",
       "\n",
       "    .dataframe thead th {\n",
       "        text-align: right;\n",
       "    }\n",
       "</style>\n",
       "<table border=\"1\" class=\"dataframe\">\n",
       "  <thead>\n",
       "    <tr style=\"text-align: right;\">\n",
       "      <th></th>\n",
       "      <th>Temp. Ins. (C)</th>\n",
       "    </tr>\n",
       "    <tr>\n",
       "      <th>Data</th>\n",
       "      <th></th>\n",
       "    </tr>\n",
       "  </thead>\n",
       "  <tbody>\n",
       "    <tr>\n",
       "      <th>2025-01-25</th>\n",
       "      <td>21,4</td>\n",
       "    </tr>\n",
       "    <tr>\n",
       "      <th>2025-01-25</th>\n",
       "      <td>23,7</td>\n",
       "    </tr>\n",
       "    <tr>\n",
       "      <th>2025-01-25</th>\n",
       "      <td>25,8</td>\n",
       "    </tr>\n",
       "    <tr>\n",
       "      <th>2025-01-25</th>\n",
       "      <td>26,4</td>\n",
       "    </tr>\n",
       "    <tr>\n",
       "      <th>2025-01-25</th>\n",
       "      <td>26,7</td>\n",
       "    </tr>\n",
       "    <tr>\n",
       "      <th>...</th>\n",
       "      <td>...</td>\n",
       "    </tr>\n",
       "    <tr>\n",
       "      <th>2025-02-25</th>\n",
       "      <td>28,1</td>\n",
       "    </tr>\n",
       "    <tr>\n",
       "      <th>2025-02-25</th>\n",
       "      <td>21,5</td>\n",
       "    </tr>\n",
       "    <tr>\n",
       "      <th>2025-02-25</th>\n",
       "      <td>21,2</td>\n",
       "    </tr>\n",
       "    <tr>\n",
       "      <th>2025-02-25</th>\n",
       "      <td>22,7</td>\n",
       "    </tr>\n",
       "    <tr>\n",
       "      <th>2025-02-25</th>\n",
       "      <td>21,3</td>\n",
       "    </tr>\n",
       "  </tbody>\n",
       "</table>\n",
       "<p>415 rows × 1 columns</p>\n",
       "</div>"
      ],
      "text/plain": [
       "           Temp. Ins. (C)\n",
       "Data                     \n",
       "2025-01-25           21,4\n",
       "2025-01-25           23,7\n",
       "2025-01-25           25,8\n",
       "2025-01-25           26,4\n",
       "2025-01-25           26,7\n",
       "...                   ...\n",
       "2025-02-25           28,1\n",
       "2025-02-25           21,5\n",
       "2025-02-25           21,2\n",
       "2025-02-25           22,7\n",
       "2025-02-25           21,3\n",
       "\n",
       "[415 rows x 1 columns]"
      ]
     },
     "execution_count": 19,
     "metadata": {},
     "output_type": "execute_result"
    }
   ],
   "source": [
    "df"
   ]
  },
  {
   "cell_type": "code",
   "execution_count": 20,
   "id": "0f4e7dd8-6115-4310-a6f9-515e90436b6b",
   "metadata": {},
   "outputs": [],
   "source": [
    "df['Ano'] = df.index.year"
   ]
  },
  {
   "cell_type": "code",
   "execution_count": 21,
   "id": "b26a3883-ee7e-4497-9cef-1ce0618006fd",
   "metadata": {},
   "outputs": [
    {
     "data": {
      "text/html": [
       "<div>\n",
       "<style scoped>\n",
       "    .dataframe tbody tr th:only-of-type {\n",
       "        vertical-align: middle;\n",
       "    }\n",
       "\n",
       "    .dataframe tbody tr th {\n",
       "        vertical-align: top;\n",
       "    }\n",
       "\n",
       "    .dataframe thead th {\n",
       "        text-align: right;\n",
       "    }\n",
       "</style>\n",
       "<table border=\"1\" class=\"dataframe\">\n",
       "  <thead>\n",
       "    <tr style=\"text-align: right;\">\n",
       "      <th></th>\n",
       "      <th>Temp. Ins. (C)</th>\n",
       "      <th>Ano</th>\n",
       "    </tr>\n",
       "    <tr>\n",
       "      <th>Data</th>\n",
       "      <th></th>\n",
       "      <th></th>\n",
       "    </tr>\n",
       "  </thead>\n",
       "  <tbody>\n",
       "    <tr>\n",
       "      <th>2025-01-25</th>\n",
       "      <td>21,4</td>\n",
       "      <td>2025</td>\n",
       "    </tr>\n",
       "    <tr>\n",
       "      <th>2025-01-25</th>\n",
       "      <td>23,7</td>\n",
       "      <td>2025</td>\n",
       "    </tr>\n",
       "    <tr>\n",
       "      <th>2025-01-25</th>\n",
       "      <td>25,8</td>\n",
       "      <td>2025</td>\n",
       "    </tr>\n",
       "    <tr>\n",
       "      <th>2025-01-25</th>\n",
       "      <td>26,4</td>\n",
       "      <td>2025</td>\n",
       "    </tr>\n",
       "    <tr>\n",
       "      <th>2025-01-25</th>\n",
       "      <td>26,7</td>\n",
       "      <td>2025</td>\n",
       "    </tr>\n",
       "    <tr>\n",
       "      <th>...</th>\n",
       "      <td>...</td>\n",
       "      <td>...</td>\n",
       "    </tr>\n",
       "    <tr>\n",
       "      <th>2025-02-25</th>\n",
       "      <td>28,1</td>\n",
       "      <td>2025</td>\n",
       "    </tr>\n",
       "    <tr>\n",
       "      <th>2025-02-25</th>\n",
       "      <td>21,5</td>\n",
       "      <td>2025</td>\n",
       "    </tr>\n",
       "    <tr>\n",
       "      <th>2025-02-25</th>\n",
       "      <td>21,2</td>\n",
       "      <td>2025</td>\n",
       "    </tr>\n",
       "    <tr>\n",
       "      <th>2025-02-25</th>\n",
       "      <td>22,7</td>\n",
       "      <td>2025</td>\n",
       "    </tr>\n",
       "    <tr>\n",
       "      <th>2025-02-25</th>\n",
       "      <td>21,3</td>\n",
       "      <td>2025</td>\n",
       "    </tr>\n",
       "  </tbody>\n",
       "</table>\n",
       "<p>415 rows × 2 columns</p>\n",
       "</div>"
      ],
      "text/plain": [
       "           Temp. Ins. (C)   Ano\n",
       "Data                           \n",
       "2025-01-25           21,4  2025\n",
       "2025-01-25           23,7  2025\n",
       "2025-01-25           25,8  2025\n",
       "2025-01-25           26,4  2025\n",
       "2025-01-25           26,7  2025\n",
       "...                   ...   ...\n",
       "2025-02-25           28,1  2025\n",
       "2025-02-25           21,5  2025\n",
       "2025-02-25           21,2  2025\n",
       "2025-02-25           22,7  2025\n",
       "2025-02-25           21,3  2025\n",
       "\n",
       "[415 rows x 2 columns]"
      ]
     },
     "execution_count": 21,
     "metadata": {},
     "output_type": "execute_result"
    }
   ],
   "source": [
    "df"
   ]
  },
  {
   "cell_type": "code",
   "execution_count": 22,
   "id": "13b49147-4030-4f5e-91f1-ed24e7f2bbcd",
   "metadata": {},
   "outputs": [
    {
     "name": "stdout",
     "output_type": "stream",
     "text": [
      "<class 'pandas.core.frame.DataFrame'>\n",
      "DatetimeIndex: 415 entries, 2025-01-25 to 2025-02-25\n",
      "Data columns (total 2 columns):\n",
      " #   Column          Non-Null Count  Dtype \n",
      "---  ------          --------------  ----- \n",
      " 0   Temp. Ins. (C)  415 non-null    object\n",
      " 1   Ano             415 non-null    int32 \n",
      "dtypes: int32(1), object(1)\n",
      "memory usage: 8.1+ KB\n"
     ]
    }
   ],
   "source": [
    "df.info()"
   ]
  },
  {
   "cell_type": "code",
   "execution_count": 24,
   "id": "99c321e1-6c6d-4163-bcb2-e2236ae2da05",
   "metadata": {},
   "outputs": [],
   "source": [
    "df['Temp. Ins. (C)'] = df['Temp. Ins. (C)'].str.replace(',', '.', regex=False)\n",
    "\n",
    "# Converter para float\n",
    "df['Temp. Ins. (C)'] = df['Temp. Ins. (C)'].astype(float)"
   ]
  },
  {
   "cell_type": "code",
   "execution_count": 26,
   "id": "585cdf49-0d00-4b92-ad1f-e5cec34c778d",
   "metadata": {},
   "outputs": [],
   "source": [
    "df= df.resample('W').mean()"
   ]
  },
  {
   "cell_type": "code",
   "execution_count": 27,
   "id": "cf451db6-5874-4401-a34a-51737f113d92",
   "metadata": {},
   "outputs": [
    {
     "data": {
      "text/plain": [
       "(6, 2)"
      ]
     },
     "execution_count": 27,
     "metadata": {},
     "output_type": "execute_result"
    }
   ],
   "source": [
    "df.shape"
   ]
  },
  {
   "cell_type": "code",
   "execution_count": 28,
   "id": "99da33a8-e1ec-4b92-af0d-0ba2c3e65002",
   "metadata": {},
   "outputs": [
    {
     "data": {
      "text/html": [
       "<div>\n",
       "<style scoped>\n",
       "    .dataframe tbody tr th:only-of-type {\n",
       "        vertical-align: middle;\n",
       "    }\n",
       "\n",
       "    .dataframe tbody tr th {\n",
       "        vertical-align: top;\n",
       "    }\n",
       "\n",
       "    .dataframe thead th {\n",
       "        text-align: right;\n",
       "    }\n",
       "</style>\n",
       "<table border=\"1\" class=\"dataframe\">\n",
       "  <thead>\n",
       "    <tr style=\"text-align: right;\">\n",
       "      <th></th>\n",
       "      <th>Temp. Ins. (C)</th>\n",
       "      <th>Ano</th>\n",
       "    </tr>\n",
       "    <tr>\n",
       "      <th>Data</th>\n",
       "      <th></th>\n",
       "      <th></th>\n",
       "    </tr>\n",
       "  </thead>\n",
       "  <tbody>\n",
       "    <tr>\n",
       "      <th>2025-01-26</th>\n",
       "      <td>26.448000</td>\n",
       "      <td>2025.0</td>\n",
       "    </tr>\n",
       "    <tr>\n",
       "      <th>2025-02-02</th>\n",
       "      <td>23.090217</td>\n",
       "      <td>2025.0</td>\n",
       "    </tr>\n",
       "    <tr>\n",
       "      <th>2025-02-09</th>\n",
       "      <td>24.740659</td>\n",
       "      <td>2025.0</td>\n",
       "    </tr>\n",
       "    <tr>\n",
       "      <th>2025-02-16</th>\n",
       "      <td>24.208889</td>\n",
       "      <td>2025.0</td>\n",
       "    </tr>\n",
       "    <tr>\n",
       "      <th>2025-02-23</th>\n",
       "      <td>26.637363</td>\n",
       "      <td>2025.0</td>\n",
       "    </tr>\n",
       "  </tbody>\n",
       "</table>\n",
       "</div>"
      ],
      "text/plain": [
       "            Temp. Ins. (C)     Ano\n",
       "Data                              \n",
       "2025-01-26       26.448000  2025.0\n",
       "2025-02-02       23.090217  2025.0\n",
       "2025-02-09       24.740659  2025.0\n",
       "2025-02-16       24.208889  2025.0\n",
       "2025-02-23       26.637363  2025.0"
      ]
     },
     "execution_count": 28,
     "metadata": {},
     "output_type": "execute_result"
    }
   ],
   "source": [
    "df.head()"
   ]
  },
  {
   "cell_type": "code",
   "execution_count": 29,
   "id": "44fb0609-a30f-49c5-884c-927668977a53",
   "metadata": {},
   "outputs": [],
   "source": [
    "df.columns = ['exog1','exog2']"
   ]
  },
  {
   "cell_type": "code",
   "execution_count": 30,
   "id": "b5587f48-e3ad-46be-ac53-57ff4378bdaf",
   "metadata": {},
   "outputs": [
    {
     "data": {
      "text/html": [
       "<div>\n",
       "<style scoped>\n",
       "    .dataframe tbody tr th:only-of-type {\n",
       "        vertical-align: middle;\n",
       "    }\n",
       "\n",
       "    .dataframe tbody tr th {\n",
       "        vertical-align: top;\n",
       "    }\n",
       "\n",
       "    .dataframe thead th {\n",
       "        text-align: right;\n",
       "    }\n",
       "</style>\n",
       "<table border=\"1\" class=\"dataframe\">\n",
       "  <thead>\n",
       "    <tr style=\"text-align: right;\">\n",
       "      <th></th>\n",
       "      <th>exog1</th>\n",
       "      <th>exog2</th>\n",
       "    </tr>\n",
       "    <tr>\n",
       "      <th>Data</th>\n",
       "      <th></th>\n",
       "      <th></th>\n",
       "    </tr>\n",
       "  </thead>\n",
       "  <tbody>\n",
       "    <tr>\n",
       "      <th>2025-01-26</th>\n",
       "      <td>26.448000</td>\n",
       "      <td>2025.0</td>\n",
       "    </tr>\n",
       "    <tr>\n",
       "      <th>2025-02-02</th>\n",
       "      <td>23.090217</td>\n",
       "      <td>2025.0</td>\n",
       "    </tr>\n",
       "    <tr>\n",
       "      <th>2025-02-09</th>\n",
       "      <td>24.740659</td>\n",
       "      <td>2025.0</td>\n",
       "    </tr>\n",
       "    <tr>\n",
       "      <th>2025-02-16</th>\n",
       "      <td>24.208889</td>\n",
       "      <td>2025.0</td>\n",
       "    </tr>\n",
       "    <tr>\n",
       "      <th>2025-02-23</th>\n",
       "      <td>26.637363</td>\n",
       "      <td>2025.0</td>\n",
       "    </tr>\n",
       "  </tbody>\n",
       "</table>\n",
       "</div>"
      ],
      "text/plain": [
       "                exog1   exog2\n",
       "Data                         \n",
       "2025-01-26  26.448000  2025.0\n",
       "2025-02-02  23.090217  2025.0\n",
       "2025-02-09  24.740659  2025.0\n",
       "2025-02-16  24.208889  2025.0\n",
       "2025-02-23  26.637363  2025.0"
      ]
     },
     "execution_count": 30,
     "metadata": {},
     "output_type": "execute_result"
    }
   ],
   "source": [
    "df.head()"
   ]
  },
  {
   "cell_type": "code",
   "execution_count": 31,
   "id": "0d9c4091-5f16-4521-8fa7-20d975a92524",
   "metadata": {},
   "outputs": [
    {
     "data": {
      "text/plain": [
       "DatetimeIndex(['2025-01-26', '2025-02-02', '2025-02-09', '2025-02-16',\n",
       "               '2025-02-23', '2025-03-02'],\n",
       "              dtype='datetime64[ns]', name='Data', freq='W-SUN')"
      ]
     },
     "execution_count": 31,
     "metadata": {},
     "output_type": "execute_result"
    }
   ],
   "source": [
    "df.index"
   ]
  },
  {
   "cell_type": "code",
   "execution_count": 32,
   "id": "024c025d-1a0e-49a0-9825-a5afb625d282",
   "metadata": {},
   "outputs": [],
   "source": [
    "df.to_csv('exogenas.csv',index=True)"
   ]
  }
 ],
 "metadata": {
  "kernelspec": {
   "display_name": "Python 3 (ipykernel)",
   "language": "python",
   "name": "python3"
  },
  "language_info": {
   "codemirror_mode": {
    "name": "ipython",
    "version": 3
   },
   "file_extension": ".py",
   "mimetype": "text/x-python",
   "name": "python",
   "nbconvert_exporter": "python",
   "pygments_lexer": "ipython3",
   "version": "3.10.16"
  }
 },
 "nbformat": 4,
 "nbformat_minor": 5
}
