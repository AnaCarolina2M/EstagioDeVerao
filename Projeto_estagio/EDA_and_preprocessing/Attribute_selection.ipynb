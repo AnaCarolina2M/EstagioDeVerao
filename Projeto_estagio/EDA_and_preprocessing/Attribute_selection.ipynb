{
 "cells": [
  {
   "cell_type": "code",
   "execution_count": 1,
   "id": "612bcabf-9828-4d87-88fb-f1de51444f7a",
   "metadata": {},
   "outputs": [],
   "source": [
    "import pandas as pd\n",
    "import numpy as np\n",
    "import matplotlib.pyplot as plt\n",
    "from sklearn.ensemble import RandomForestRegressor\n",
    "from sklearn.model_selection import train_test_split"
   ]
  },
  {
   "cell_type": "code",
   "execution_count": 2,
   "id": "7a40d4ba-54c1-4232-bf46-f46520025e8a",
   "metadata": {},
   "outputs": [],
   "source": [
    "df = pd.read_csv('df_resampled_com_outliers.csv',sep=',')"
   ]
  },
  {
   "cell_type": "code",
   "execution_count": 3,
   "id": "18cfbfc2-0dad-4ba8-a874-3304221508dd",
   "metadata": {},
   "outputs": [
    {
     "data": {
      "text/html": [
       "<div>\n",
       "<style scoped>\n",
       "    .dataframe tbody tr th:only-of-type {\n",
       "        vertical-align: middle;\n",
       "    }\n",
       "\n",
       "    .dataframe tbody tr th {\n",
       "        vertical-align: top;\n",
       "    }\n",
       "\n",
       "    .dataframe thead th {\n",
       "        text-align: right;\n",
       "    }\n",
       "</style>\n",
       "<table border=\"1\" class=\"dataframe\">\n",
       "  <thead>\n",
       "    <tr style=\"text-align: right;\">\n",
       "      <th></th>\n",
       "      <th>data_hora</th>\n",
       "      <th>Temp. Ins. (C)</th>\n",
       "      <th>Temp. Max. (C)</th>\n",
       "      <th>Temp. Min. (C)</th>\n",
       "      <th>Umi. Ins. (%)</th>\n",
       "      <th>Umi. Max. (%)</th>\n",
       "      <th>Umi. Min. (%)</th>\n",
       "      <th>Pto Orvalho Ins. (C)</th>\n",
       "      <th>Pto Orvalho Max. (C)</th>\n",
       "      <th>Pto Orvalho Min. (C)</th>\n",
       "      <th>Pressao Ins. (hPa)</th>\n",
       "      <th>Pressao Max. (hPa)</th>\n",
       "      <th>Pressao Min. (hPa)</th>\n",
       "      <th>Vel. Vento (m/s)</th>\n",
       "      <th>Dir. Vento (m/s)</th>\n",
       "      <th>Raj. Vento (m/s)</th>\n",
       "      <th>Radiacao (KJ/m²)</th>\n",
       "      <th>Chuva (mm)</th>\n",
       "    </tr>\n",
       "  </thead>\n",
       "  <tbody>\n",
       "    <tr>\n",
       "      <th>0</th>\n",
       "      <td>2023-01-29</td>\n",
       "      <td>22.969444</td>\n",
       "      <td>23.934722</td>\n",
       "      <td>21.926389</td>\n",
       "      <td>71.111111</td>\n",
       "      <td>76.722222</td>\n",
       "      <td>66.416667</td>\n",
       "      <td>17.176389</td>\n",
       "      <td>18.104167</td>\n",
       "      <td>16.406944</td>\n",
       "      <td>885.483333</td>\n",
       "      <td>885.819444</td>\n",
       "      <td>885.222222</td>\n",
       "      <td>2.709722</td>\n",
       "      <td>195.986111</td>\n",
       "      <td>6.022222</td>\n",
       "      <td>1580.177778</td>\n",
       "      <td>0.288889</td>\n",
       "    </tr>\n",
       "    <tr>\n",
       "      <th>1</th>\n",
       "      <td>2023-02-05</td>\n",
       "      <td>24.509524</td>\n",
       "      <td>25.198810</td>\n",
       "      <td>23.277381</td>\n",
       "      <td>62.500000</td>\n",
       "      <td>68.726190</td>\n",
       "      <td>59.011905</td>\n",
       "      <td>16.428571</td>\n",
       "      <td>17.429762</td>\n",
       "      <td>15.520238</td>\n",
       "      <td>887.184524</td>\n",
       "      <td>887.535714</td>\n",
       "      <td>886.983333</td>\n",
       "      <td>2.294048</td>\n",
       "      <td>133.404762</td>\n",
       "      <td>5.526190</td>\n",
       "      <td>1767.392857</td>\n",
       "      <td>0.147619</td>\n",
       "    </tr>\n",
       "    <tr>\n",
       "      <th>2</th>\n",
       "      <td>2023-02-12</td>\n",
       "      <td>25.157143</td>\n",
       "      <td>25.711905</td>\n",
       "      <td>24.029762</td>\n",
       "      <td>58.785714</td>\n",
       "      <td>64.428571</td>\n",
       "      <td>56.071429</td>\n",
       "      <td>16.003571</td>\n",
       "      <td>16.991667</td>\n",
       "      <td>15.226190</td>\n",
       "      <td>886.490476</td>\n",
       "      <td>886.877381</td>\n",
       "      <td>886.265476</td>\n",
       "      <td>2.236905</td>\n",
       "      <td>114.964286</td>\n",
       "      <td>5.552381</td>\n",
       "      <td>1762.996429</td>\n",
       "      <td>0.009524</td>\n",
       "    </tr>\n",
       "    <tr>\n",
       "      <th>3</th>\n",
       "      <td>2023-02-19</td>\n",
       "      <td>25.451190</td>\n",
       "      <td>26.028571</td>\n",
       "      <td>24.259524</td>\n",
       "      <td>58.630952</td>\n",
       "      <td>64.285714</td>\n",
       "      <td>55.392857</td>\n",
       "      <td>16.033333</td>\n",
       "      <td>16.938095</td>\n",
       "      <td>15.071429</td>\n",
       "      <td>885.277381</td>\n",
       "      <td>885.655952</td>\n",
       "      <td>885.064286</td>\n",
       "      <td>2.513095</td>\n",
       "      <td>147.797619</td>\n",
       "      <td>5.946429</td>\n",
       "      <td>1892.951190</td>\n",
       "      <td>0.114286</td>\n",
       "    </tr>\n",
       "    <tr>\n",
       "      <th>4</th>\n",
       "      <td>2023-02-26</td>\n",
       "      <td>24.008333</td>\n",
       "      <td>24.713095</td>\n",
       "      <td>23.009524</td>\n",
       "      <td>66.119048</td>\n",
       "      <td>71.095238</td>\n",
       "      <td>62.321429</td>\n",
       "      <td>16.939286</td>\n",
       "      <td>17.777381</td>\n",
       "      <td>16.035714</td>\n",
       "      <td>887.779762</td>\n",
       "      <td>888.135714</td>\n",
       "      <td>887.547619</td>\n",
       "      <td>2.292857</td>\n",
       "      <td>128.726190</td>\n",
       "      <td>5.638095</td>\n",
       "      <td>1735.534524</td>\n",
       "      <td>0.033333</td>\n",
       "    </tr>\n",
       "  </tbody>\n",
       "</table>\n",
       "</div>"
      ],
      "text/plain": [
       "    data_hora  Temp. Ins. (C)  Temp. Max. (C)  Temp. Min. (C)  Umi. Ins. (%)  \\\n",
       "0  2023-01-29       22.969444       23.934722       21.926389      71.111111   \n",
       "1  2023-02-05       24.509524       25.198810       23.277381      62.500000   \n",
       "2  2023-02-12       25.157143       25.711905       24.029762      58.785714   \n",
       "3  2023-02-19       25.451190       26.028571       24.259524      58.630952   \n",
       "4  2023-02-26       24.008333       24.713095       23.009524      66.119048   \n",
       "\n",
       "   Umi. Max. (%)  Umi. Min. (%)  Pto Orvalho Ins. (C)  Pto Orvalho Max. (C)  \\\n",
       "0      76.722222      66.416667             17.176389             18.104167   \n",
       "1      68.726190      59.011905             16.428571             17.429762   \n",
       "2      64.428571      56.071429             16.003571             16.991667   \n",
       "3      64.285714      55.392857             16.033333             16.938095   \n",
       "4      71.095238      62.321429             16.939286             17.777381   \n",
       "\n",
       "   Pto Orvalho Min. (C)  Pressao Ins. (hPa)  Pressao Max. (hPa)  \\\n",
       "0             16.406944          885.483333          885.819444   \n",
       "1             15.520238          887.184524          887.535714   \n",
       "2             15.226190          886.490476          886.877381   \n",
       "3             15.071429          885.277381          885.655952   \n",
       "4             16.035714          887.779762          888.135714   \n",
       "\n",
       "   Pressao Min. (hPa)  Vel. Vento (m/s)  Dir. Vento (m/s)  Raj. Vento (m/s)  \\\n",
       "0          885.222222          2.709722        195.986111          6.022222   \n",
       "1          886.983333          2.294048        133.404762          5.526190   \n",
       "2          886.265476          2.236905        114.964286          5.552381   \n",
       "3          885.064286          2.513095        147.797619          5.946429   \n",
       "4          887.547619          2.292857        128.726190          5.638095   \n",
       "\n",
       "   Radiacao (KJ/m²)  Chuva (mm)  \n",
       "0       1580.177778    0.288889  \n",
       "1       1767.392857    0.147619  \n",
       "2       1762.996429    0.009524  \n",
       "3       1892.951190    0.114286  \n",
       "4       1735.534524    0.033333  "
      ]
     },
     "execution_count": 3,
     "metadata": {},
     "output_type": "execute_result"
    }
   ],
   "source": [
    "df.head()"
   ]
  },
  {
   "cell_type": "code",
   "execution_count": 4,
   "id": "cabefc0e-357c-4648-a0e1-2925c5b878ea",
   "metadata": {},
   "outputs": [
    {
     "data": {
      "text/plain": [
       "(105, 18)"
      ]
     },
     "execution_count": 4,
     "metadata": {},
     "output_type": "execute_result"
    }
   ],
   "source": [
    "df.shape"
   ]
  },
  {
   "cell_type": "code",
   "execution_count": 5,
   "id": "bff7e78c-8782-484d-bb6e-5a7d4f014cc1",
   "metadata": {},
   "outputs": [
    {
     "data": {
      "text/plain": [
       "Index(['data_hora', 'Temp. Ins. (C)', 'Temp. Max. (C)', 'Temp. Min. (C)',\n",
       "       'Umi. Ins. (%)', 'Umi. Max. (%)', 'Umi. Min. (%)',\n",
       "       'Pto Orvalho Ins. (C)', 'Pto Orvalho Max. (C)', 'Pto Orvalho Min. (C)',\n",
       "       'Pressao Ins. (hPa)', 'Pressao Max. (hPa)', 'Pressao Min. (hPa)',\n",
       "       'Vel. Vento (m/s)', 'Dir. Vento (m/s)', 'Raj. Vento (m/s)',\n",
       "       'Radiacao (KJ/m²)', 'Chuva (mm)'],\n",
       "      dtype='object')"
      ]
     },
     "execution_count": 5,
     "metadata": {},
     "output_type": "execute_result"
    }
   ],
   "source": [
    "df.columns"
   ]
  },
  {
   "cell_type": "code",
   "execution_count": 6,
   "id": "7c43fea7-b6c0-481f-82f2-dc7c49851e10",
   "metadata": {},
   "outputs": [],
   "source": [
    "X = df[['Temp. Ins. (C)', 'Temp. Max. (C)', 'Temp. Min. (C)',\n",
    "       'Umi. Ins. (%)', 'Umi. Max. (%)', 'Umi. Min. (%)',\n",
    "       'Pto Orvalho Ins. (C)', 'Pto Orvalho Max. (C)', 'Pto Orvalho Min. (C)',\n",
    "       'Pressao Ins. (hPa)', 'Pressao Max. (hPa)', 'Pressao Min. (hPa)',\n",
    "       'Vel. Vento (m/s)', 'Dir. Vento (m/s)', 'Raj. Vento (m/s)','Chuva (mm)']]\n",
    "y = df['Radiacao (KJ/m²)']"
   ]
  },
  {
   "cell_type": "code",
   "execution_count": 7,
   "id": "d93b698e-a29f-402b-8130-db3c7e458b67",
   "metadata": {},
   "outputs": [
    {
     "name": "stdout",
     "output_type": "stream",
     "text": [
      "Temp. Max. (C)          0.236239\n",
      "Temp. Ins. (C)          0.189274\n",
      "Temp. Min. (C)          0.152534\n",
      "Umi. Min. (%)           0.106843\n",
      "Dir. Vento (m/s)        0.058179\n",
      "Vel. Vento (m/s)        0.044927\n",
      "Umi. Ins. (%)           0.044243\n",
      "Raj. Vento (m/s)        0.032571\n",
      "Pto Orvalho Min. (C)    0.019436\n",
      "Pressao Min. (hPa)      0.019034\n",
      "Pressao Max. (hPa)      0.018789\n",
      "Chuva (mm)              0.018512\n",
      "Umi. Max. (%)           0.016563\n",
      "Pto Orvalho Max. (C)    0.015339\n",
      "Pressao Ins. (hPa)      0.013948\n",
      "Pto Orvalho Ins. (C)    0.013568\n",
      "dtype: float64\n"
     ]
    }
   ],
   "source": [
    "# X = your feature matrix, y = your target variable\n",
    "model = RandomForestRegressor()\n",
    "model.fit(X, y)\n",
    "\n",
    "# Get feature importances\n",
    "importances = model.feature_importances_\n",
    "importances_series = pd.Series(importances, index=X.columns)\n",
    "\n",
    "# Rank features based on importance\n",
    "print(importances_series.sort_values(ascending=False))\n"
   ]
  },
  {
   "cell_type": "code",
   "execution_count": 8,
   "id": "9b35e39d-5f52-4dd0-a142-2267883129c8",
   "metadata": {},
   "outputs": [
    {
     "data": {
      "image/png": "[encoded data removed]",
      "text/plain": [
       "<Figure size 640x480 with 1 Axes>"
      ]
     },
     "metadata": {},
     "output_type": "display_data"
    }
   ],
   "source": [
    "forest_importances = pd.Series(importances_series, index=X.columns)\n",
    "\n",
    "fig, ax = plt.subplots()\n",
    "forest_importances.plot.bar(ax=ax)\n",
    "ax.set_title(\"Feature importances\")\n",
    "#ax.set_ylabel(\"Mean decrease in impurity\")\n",
    "fig.tight_layout()"
   ]
  },
  {
   "cell_type": "markdown",
   "id": "df3490e2-75dc-4b23-a337-42760ae3ff56",
   "metadata": {},
   "source": [
    "<h2>Random Forest Regressor com o DF original, sem média semanal </h2>"
   ]
  },
  {
   "cell_type": "code",
   "execution_count": 9,
   "id": "a9d65c2c-b714-468d-893f-d5b22acedd0f",
   "metadata": {},
   "outputs": [],
   "source": [
    "df2 = pd.read_csv('df_original_limpo.csv',sep=',')"
   ]
  },
  {
   "cell_type": "code",
   "execution_count": 10,
   "id": "78396244-758b-4b54-a9bb-4523ec52fabc",
   "metadata": {},
   "outputs": [
    {
     "data": {
      "text/plain": [
       "(8784, 18)"
      ]
     },
     "execution_count": 10,
     "metadata": {},
     "output_type": "execute_result"
    }
   ],
   "source": [
    "df2.shape"
   ]
  },
  {
   "cell_type": "code",
   "execution_count": 11,
   "id": "d6583d3e-83b8-455a-aaf3-4f96bda65cda",
   "metadata": {},
   "outputs": [],
   "source": [
    "X = df2[['Temp. Ins. (C)', 'Temp. Max. (C)', 'Temp. Min. (C)',\n",
    "       'Umi. Ins. (%)', 'Umi. Max. (%)', 'Umi. Min. (%)',\n",
    "       'Pto Orvalho Ins. (C)', 'Pto Orvalho Max. (C)', 'Pto Orvalho Min. (C)',\n",
    "       'Pressao Ins. (hPa)', 'Pressao Max. (hPa)', 'Pressao Min. (hPa)',\n",
    "       'Vel. Vento (m/s)', 'Dir. Vento (m/s)', 'Raj. Vento (m/s)','Chuva (mm)']]\n",
    "y = df2['Radiacao (KJ/m²)']"
   ]
  },
  {
   "cell_type": "code",
   "execution_count": 12,
   "id": "e067e2c0-2d64-40e3-88e7-cd1b1a6b8c24",
   "metadata": {},
   "outputs": [
    {
     "name": "stdout",
     "output_type": "stream",
     "text": [
      "Temp. Ins. (C)          0.466587\n",
      "Pressao Max. (hPa)      0.111177\n",
      "Vel. Vento (m/s)        0.070870\n",
      "Raj. Vento (m/s)        0.068543\n",
      "Pto Orvalho Max. (C)    0.046576\n",
      "Temp. Min. (C)          0.042916\n",
      "Temp. Max. (C)          0.032907\n",
      "Dir. Vento (m/s)        0.029510\n",
      "Pressao Min. (hPa)      0.025891\n",
      "Pressao Ins. (hPa)      0.021161\n",
      "Umi. Max. (%)           0.020754\n",
      "Umi. Ins. (%)           0.018621\n",
      "Pto Orvalho Min. (C)    0.015339\n",
      "Umi. Min. (%)           0.015180\n",
      "Pto Orvalho Ins. (C)    0.013405\n",
      "Chuva (mm)              0.000566\n",
      "dtype: float64\n"
     ]
    }
   ],
   "source": [
    "# X = your feature matrix, y = your target variable\n",
    "model = RandomForestRegressor()\n",
    "model.fit(X, y)\n",
    "\n",
    "# Get feature importances\n",
    "importances = model.feature_importances_\n",
    "importances_series = pd.Series(importances, index=X.columns)\n",
    "\n",
    "# Rank features based on importance\n",
    "print(importances_series.sort_values(ascending=False))\n"
   ]
  },
  {
   "cell_type": "code",
   "execution_count": 13,
   "id": "c1114e13-8396-4259-b24f-d2536ddcf78a",
   "metadata": {},
   "outputs": [
    {
     "data": {
      "image/png": "[encoded data removed]",
      "text/plain": [
       "<Figure size 640x480 with 1 Axes>"
      ]
     },
     "metadata": {},
     "output_type": "display_data"
    }
   ],
   "source": [
    "forest_importances = pd.Series(importances_series, index=X.columns)\n",
    "\n",
    "fig, ax = plt.subplots()\n",
    "forest_importances.plot.bar(ax=ax)\n",
    "ax.set_title(\"Feature importances\")\n",
    "#ax.set_ylabel(\"Mean decrease in impurity\")\n",
    "fig.tight_layout()"
   ]
  },
  {
   "cell_type": "markdown",
   "id": "21e51c6f-4d57-429d-82c6-51c1ddc3c54d",
   "metadata": {},
   "source": [
    "<h2>Feature Engineering - SARIMAX</h2>"
   ]
  },
  {
   "cell_type": "code",
   "execution_count": 14,
   "id": "56e221ea-68f7-4d42-8e64-96248f591dee",
   "metadata": {},
   "outputs": [],
   "source": [
    "#Checkpoint\n",
    "df_eng = df.copy()"
   ]
  },
  {
   "cell_type": "code",
   "execution_count": 15,
   "id": "4e188152-e82f-4718-965e-bb10bc9240a9",
   "metadata": {},
   "outputs": [
    {
     "data": {
      "text/plain": [
       "RangeIndex(start=0, stop=105, step=1)"
      ]
     },
     "execution_count": 15,
     "metadata": {},
     "output_type": "execute_result"
    }
   ],
   "source": [
    "df_eng.index"
   ]
  },
  {
   "cell_type": "code",
   "execution_count": 18,
   "id": "557d5521-24f1-43d2-942b-1797148090cf",
   "metadata": {},
   "outputs": [],
   "source": [
    "df_eng['data_hora'] = pd.to_datetime(df_eng['data_hora'], format='%Y-%m-%d')\n",
    "# Estabelecer 'data_hora' como o index\n",
    "df_eng.set_index('data_hora', inplace=True)"
   ]
  },
  {
   "cell_type": "code",
   "execution_count": 19,
   "id": "f3476f61-6b1e-4843-b47f-cfd9c1d348a8",
   "metadata": {},
   "outputs": [
    {
     "data": {
      "text/plain": [
       "DatetimeIndex(['2023-01-29', '2023-02-05', '2023-02-12', '2023-02-19',\n",
       "               '2023-02-26', '2023-03-05', '2023-03-12', '2023-03-19',\n",
       "               '2023-03-26', '2023-04-02',\n",
       "               ...\n",
       "               '2024-11-24', '2024-12-01', '2024-12-08', '2024-12-15',\n",
       "               '2024-12-22', '2024-12-29', '2025-01-05', '2025-01-12',\n",
       "               '2025-01-19', '2025-01-26'],\n",
       "              dtype='datetime64[ns]', name='data_hora', length=105, freq=None)"
      ]
     },
     "execution_count": 19,
     "metadata": {},
     "output_type": "execute_result"
    }
   ],
   "source": [
    "df_eng.index"
   ]
  },
  {
   "cell_type": "code",
   "execution_count": 20,
   "id": "63bf9dfc-221b-4581-bc7b-50334179a859",
   "metadata": {},
   "outputs": [
    {
     "data": {
      "text/html": [
       "<div>\n",
       "<style scoped>\n",
       "    .dataframe tbody tr th:only-of-type {\n",
       "        vertical-align: middle;\n",
       "    }\n",
       "\n",
       "    .dataframe tbody tr th {\n",
       "        vertical-align: top;\n",
       "    }\n",
       "\n",
       "    .dataframe thead th {\n",
       "        text-align: right;\n",
       "    }\n",
       "</style>\n",
       "<table border=\"1\" class=\"dataframe\">\n",
       "  <thead>\n",
       "    <tr style=\"text-align: right;\">\n",
       "      <th></th>\n",
       "      <th>Temp. Ins. (C)</th>\n",
       "      <th>Temp. Max. (C)</th>\n",
       "      <th>Temp. Min. (C)</th>\n",
       "      <th>Umi. Ins. (%)</th>\n",
       "      <th>Umi. Max. (%)</th>\n",
       "      <th>Umi. Min. (%)</th>\n",
       "      <th>Pto Orvalho Ins. (C)</th>\n",
       "      <th>Pto Orvalho Max. (C)</th>\n",
       "      <th>Pto Orvalho Min. (C)</th>\n",
       "      <th>Pressao Ins. (hPa)</th>\n",
       "      <th>Pressao Max. (hPa)</th>\n",
       "      <th>Pressao Min. (hPa)</th>\n",
       "      <th>Vel. Vento (m/s)</th>\n",
       "      <th>Dir. Vento (m/s)</th>\n",
       "      <th>Raj. Vento (m/s)</th>\n",
       "      <th>Radiacao (KJ/m²)</th>\n",
       "      <th>Chuva (mm)</th>\n",
       "    </tr>\n",
       "    <tr>\n",
       "      <th>data_hora</th>\n",
       "      <th></th>\n",
       "      <th></th>\n",
       "      <th></th>\n",
       "      <th></th>\n",
       "      <th></th>\n",
       "      <th></th>\n",
       "      <th></th>\n",
       "      <th></th>\n",
       "      <th></th>\n",
       "      <th></th>\n",
       "      <th></th>\n",
       "      <th></th>\n",
       "      <th></th>\n",
       "      <th></th>\n",
       "      <th></th>\n",
       "      <th></th>\n",
       "      <th></th>\n",
       "    </tr>\n",
       "  </thead>\n",
       "  <tbody>\n",
       "    <tr>\n",
       "      <th>2023-01-29</th>\n",
       "      <td>22.969444</td>\n",
       "      <td>23.934722</td>\n",
       "      <td>21.926389</td>\n",
       "      <td>71.111111</td>\n",
       "      <td>76.722222</td>\n",
       "      <td>66.416667</td>\n",
       "      <td>17.176389</td>\n",
       "      <td>18.104167</td>\n",
       "      <td>16.406944</td>\n",
       "      <td>885.483333</td>\n",
       "      <td>885.819444</td>\n",
       "      <td>885.222222</td>\n",
       "      <td>2.709722</td>\n",
       "      <td>195.986111</td>\n",
       "      <td>6.022222</td>\n",
       "      <td>1580.177778</td>\n",
       "      <td>0.288889</td>\n",
       "    </tr>\n",
       "    <tr>\n",
       "      <th>2023-02-05</th>\n",
       "      <td>24.509524</td>\n",
       "      <td>25.198810</td>\n",
       "      <td>23.277381</td>\n",
       "      <td>62.500000</td>\n",
       "      <td>68.726190</td>\n",
       "      <td>59.011905</td>\n",
       "      <td>16.428571</td>\n",
       "      <td>17.429762</td>\n",
       "      <td>15.520238</td>\n",
       "      <td>887.184524</td>\n",
       "      <td>887.535714</td>\n",
       "      <td>886.983333</td>\n",
       "      <td>2.294048</td>\n",
       "      <td>133.404762</td>\n",
       "      <td>5.526190</td>\n",
       "      <td>1767.392857</td>\n",
       "      <td>0.147619</td>\n",
       "    </tr>\n",
       "    <tr>\n",
       "      <th>2023-02-12</th>\n",
       "      <td>25.157143</td>\n",
       "      <td>25.711905</td>\n",
       "      <td>24.029762</td>\n",
       "      <td>58.785714</td>\n",
       "      <td>64.428571</td>\n",
       "      <td>56.071429</td>\n",
       "      <td>16.003571</td>\n",
       "      <td>16.991667</td>\n",
       "      <td>15.226190</td>\n",
       "      <td>886.490476</td>\n",
       "      <td>886.877381</td>\n",
       "      <td>886.265476</td>\n",
       "      <td>2.236905</td>\n",
       "      <td>114.964286</td>\n",
       "      <td>5.552381</td>\n",
       "      <td>1762.996429</td>\n",
       "      <td>0.009524</td>\n",
       "    </tr>\n",
       "    <tr>\n",
       "      <th>2023-02-19</th>\n",
       "      <td>25.451190</td>\n",
       "      <td>26.028571</td>\n",
       "      <td>24.259524</td>\n",
       "      <td>58.630952</td>\n",
       "      <td>64.285714</td>\n",
       "      <td>55.392857</td>\n",
       "      <td>16.033333</td>\n",
       "      <td>16.938095</td>\n",
       "      <td>15.071429</td>\n",
       "      <td>885.277381</td>\n",
       "      <td>885.655952</td>\n",
       "      <td>885.064286</td>\n",
       "      <td>2.513095</td>\n",
       "      <td>147.797619</td>\n",
       "      <td>5.946429</td>\n",
       "      <td>1892.951190</td>\n",
       "      <td>0.114286</td>\n",
       "    </tr>\n",
       "    <tr>\n",
       "      <th>2023-02-26</th>\n",
       "      <td>24.008333</td>\n",
       "      <td>24.713095</td>\n",
       "      <td>23.009524</td>\n",
       "      <td>66.119048</td>\n",
       "      <td>71.095238</td>\n",
       "      <td>62.321429</td>\n",
       "      <td>16.939286</td>\n",
       "      <td>17.777381</td>\n",
       "      <td>16.035714</td>\n",
       "      <td>887.779762</td>\n",
       "      <td>888.135714</td>\n",
       "      <td>887.547619</td>\n",
       "      <td>2.292857</td>\n",
       "      <td>128.726190</td>\n",
       "      <td>5.638095</td>\n",
       "      <td>1735.534524</td>\n",
       "      <td>0.033333</td>\n",
       "    </tr>\n",
       "  </tbody>\n",
       "</table>\n",
       "</div>"
      ],
      "text/plain": [
       "            Temp. Ins. (C)  Temp. Max. (C)  Temp. Min. (C)  Umi. Ins. (%)  \\\n",
       "data_hora                                                                   \n",
       "2023-01-29       22.969444       23.934722       21.926389      71.111111   \n",
       "2023-02-05       24.509524       25.198810       23.277381      62.500000   \n",
       "2023-02-12       25.157143       25.711905       24.029762      58.785714   \n",
       "2023-02-19       25.451190       26.028571       24.259524      58.630952   \n",
       "2023-02-26       24.008333       24.713095       23.009524      66.119048   \n",
       "\n",
       "            Umi. Max. (%)  Umi. Min. (%)  Pto Orvalho Ins. (C)  \\\n",
       "data_hora                                                        \n",
       "2023-01-29      76.722222      66.416667             17.176389   \n",
       "2023-02-05      68.726190      59.011905             16.428571   \n",
       "2023-02-12      64.428571      56.071429             16.003571   \n",
       "2023-02-19      64.285714      55.392857             16.033333   \n",
       "2023-02-26      71.095238      62.321429             16.939286   \n",
       "\n",
       "            Pto Orvalho Max. (C)  Pto Orvalho Min. (C)  Pressao Ins. (hPa)  \\\n",
       "data_hora                                                                    \n",
       "2023-01-29             18.104167             16.406944          885.483333   \n",
       "2023-02-05             17.429762             15.520238          887.184524   \n",
       "2023-02-12             16.991667             15.226190          886.490476   \n",
       "2023-02-19             16.938095             15.071429          885.277381   \n",
       "2023-02-26             17.777381             16.035714          887.779762   \n",
       "\n",
       "            Pressao Max. (hPa)  Pressao Min. (hPa)  Vel. Vento (m/s)  \\\n",
       "data_hora                                                              \n",
       "2023-01-29          885.819444          885.222222          2.709722   \n",
       "2023-02-05          887.535714          886.983333          2.294048   \n",
       "2023-02-12          886.877381          886.265476          2.236905   \n",
       "2023-02-19          885.655952          885.064286          2.513095   \n",
       "2023-02-26          888.135714          887.547619          2.292857   \n",
       "\n",
       "            Dir. Vento (m/s)  Raj. Vento (m/s)  Radiacao (KJ/m²)  Chuva (mm)  \n",
       "data_hora                                                                     \n",
       "2023-01-29        195.986111          6.022222       1580.177778    0.288889  \n",
       "2023-02-05        133.404762          5.526190       1767.392857    0.147619  \n",
       "2023-02-12        114.964286          5.552381       1762.996429    0.009524  \n",
       "2023-02-19        147.797619          5.946429       1892.951190    0.114286  \n",
       "2023-02-26        128.726190          5.638095       1735.534524    0.033333  "
      ]
     },
     "execution_count": 20,
     "metadata": {},
     "output_type": "execute_result"
    }
   ],
   "source": [
    "df_eng.head()"
   ]
  },
  {
   "cell_type": "code",
   "execution_count": 21,
   "id": "93ab1e71-2587-49ab-b49d-e10676db7769",
   "metadata": {},
   "outputs": [],
   "source": [
    "df_eng['Mes'] = df_eng.index.month"
   ]
  },
  {
   "cell_type": "code",
   "execution_count": 27,
   "id": "9a52cc83-7901-4f33-b406-ac1b0937e695",
   "metadata": {},
   "outputs": [],
   "source": [
    "df_eng['Ano'] = df_eng.index.year"
   ]
  },
  {
   "cell_type": "code",
   "execution_count": 22,
   "id": "5a0dec02-bb49-4413-8328-1ac56709c652",
   "metadata": {},
   "outputs": [],
   "source": [
    "from statsmodels.tsa.stattools import adfuller"
   ]
  },
  {
   "cell_type": "code",
   "execution_count": 23,
   "id": "8ea811d2-7ca5-43ac-8063-73078a7113be",
   "metadata": {},
   "outputs": [
    {
     "name": "stdout",
     "output_type": "stream",
     "text": [
      "Teste ADF:-6.019896590645964\n",
      "Dados estacionários\n",
      "p-value:1.5024553364315228e-07\n",
      "Dados estacionários\n",
      "#Lags:0\n",
      "Dados estacionários\n",
      "No de observações:104\n",
      "Dados estacionários\n"
     ]
    }
   ],
   "source": [
    "def adf(df_eng):\n",
    "    resultado = adfuller(df_eng)\n",
    "    labels = ['Teste ADF','p-value','#Lags','No de observações']\n",
    "    for value, label in zip(resultado,labels):\n",
    "        print(label+':'+str(value))\n",
    "        if resultado[1] <= 0.05:\n",
    "            print(f\"Dados estacionários\")\n",
    "        else:\n",
    "            print(f\"Dados não estacionários\")\n",
    "adf(df_eng['Radiacao (KJ/m²)'])"
   ]
  },
  {
   "cell_type": "code",
   "execution_count": 26,
   "id": "d49d9235-c961-4f78-8500-fb25b1ad722e",
   "metadata": {},
   "outputs": [
    {
     "data": {
      "image/png": "[encoded data removed]",
      "text/plain": [
       "<Figure size 640x480 with 1 Axes>"
      ]
     },
     "metadata": {},
     "output_type": "display_data"
    }
   ],
   "source": [
    "#Autocorrelação de Radiação\n",
    "x = pd.plotting.autocorrelation_plot(df_eng['Radiacao (KJ/m²)']) \n",
    "x.plot()\n",
    "plt.show()"
   ]
  },
  {
   "cell_type": "code",
   "execution_count": 31,
   "id": "98763bdb-de58-4cc4-b410-a3c90d6d834a",
   "metadata": {},
   "outputs": [],
   "source": [
    "X_eng = df_eng[['Temp. Ins. (C)', 'Temp. Max. (C)', 'Temp. Min. (C)',\n",
    "       'Umi. Ins. (%)', 'Umi. Max. (%)', 'Umi. Min. (%)',\n",
    "       'Pto Orvalho Ins. (C)', 'Pto Orvalho Max. (C)', 'Pto Orvalho Min. (C)',\n",
    "       'Pressao Ins. (hPa)', 'Pressao Max. (hPa)', 'Pressao Min. (hPa)',\n",
    "       'Vel. Vento (m/s)', 'Dir. Vento (m/s)', 'Raj. Vento (m/s)','Chuva (mm)','Mes','Ano']]\n",
    "y_eng = df_eng['Radiacao (KJ/m²)']"
   ]
  },
  {
   "cell_type": "code",
   "execution_count": 32,
   "id": "9fdf8963-dd9e-4dcc-9a4c-9f0fc9b75fb3",
   "metadata": {},
   "outputs": [
    {
     "name": "stdout",
     "output_type": "stream",
     "text": [
      "Temp. Ins. (C)          0.216833\n",
      "Temp. Max. (C)          0.207516\n",
      "Temp. Min. (C)          0.122457\n",
      "Umi. Min. (%)           0.117638\n",
      "Mes                     0.061580\n",
      "Dir. Vento (m/s)        0.049357\n",
      "Vel. Vento (m/s)        0.037409\n",
      "Umi. Ins. (%)           0.035222\n",
      "Raj. Vento (m/s)        0.027418\n",
      "Pto Orvalho Ins. (C)    0.019956\n",
      "Umi. Max. (%)           0.018410\n",
      "Pressao Max. (hPa)      0.016308\n",
      "Pto Orvalho Min. (C)    0.014590\n",
      "Pressao Ins. (hPa)      0.013572\n",
      "Chuva (mm)              0.013539\n",
      "Pressao Min. (hPa)      0.012437\n",
      "Pto Orvalho Max. (C)    0.011540\n",
      "Ano                     0.004218\n",
      "dtype: float64\n"
     ]
    }
   ],
   "source": [
    "# X = your feature matrix, y = your target variable\n",
    "model = RandomForestRegressor()\n",
    "model.fit(X_eng, y_eng)\n",
    "\n",
    "# Get feature importances\n",
    "importances = model.feature_importances_\n",
    "importances_series = pd.Series(importances, index=X_eng.columns)\n",
    "\n",
    "# Rank features based on importance\n",
    "print(importances_series.sort_values(ascending=False))\n"
   ]
  },
  {
   "cell_type": "code",
   "execution_count": 28,
   "id": "f0249d80-8fb3-4564-971e-d319d186e33b",
   "metadata": {},
   "outputs": [],
   "source": [
    "df_eng.to_csv('df_eng.csv',index=True)"
   ]
  },
  {
   "cell_type": "markdown",
   "id": "ab2e5374-5cbd-4ce9-afde-1e5ec6b59fac",
   "metadata": {},
   "source": [
    "<h2>Lag</h2>"
   ]
  },
  {
   "cell_type": "code",
   "execution_count": null,
   "id": "c1c49f8c-845d-42d3-9127-9a6f759bfe9f",
   "metadata": {},
   "outputs": [],
   "source": [
    "#Para o XGBOOST, o modelo necessariamente tem que ter o lag"
   ]
  },
  {
   "cell_type": "markdown",
   "id": "1e97c434-165c-4c53-a03c-7a18f3fd62f8",
   "metadata": {},
   "source": [
    "<h4>Checkpoint 2</h4>"
   ]
  },
  {
   "cell_type": "code",
   "execution_count": null,
   "id": "350752b2-eae7-4eae-b2f2-06c9a8be60e7",
   "metadata": {},
   "outputs": [],
   "source": [
    "df_eng2 = df_eng.copy()"
   ]
  },
  {
   "cell_type": "code",
   "execution_count": null,
   "id": "09fe3593-9bc1-47d1-93ee-fd9554c9ffb1",
   "metadata": {},
   "outputs": [],
   "source": [
    "df_eng2['lag_1'] = df_eng2['Radiacao (KJ/m²)'].shift(1)"
   ]
  },
  {
   "cell_type": "code",
   "execution_count": null,
   "id": "fd8e498c-6d9b-49a9-b56e-47bbe94dd04d",
   "metadata": {},
   "outputs": [],
   "source": []
  }
 ],
 "metadata": {
  "kernelspec": {
   "display_name": "Python 3 (ipykernel)",
   "language": "python",
   "name": "python3"
  },
  "language_info": {
   "codemirror_mode": {
    "name": "ipython",
    "version": 3
   },
   "file_extension": ".py",
   "mimetype": "text/x-python",
   "name": "python",
   "nbconvert_exporter": "python",
   "pygments_lexer": "ipython3",
   "version": "3.10.16"
  }
 },
 "nbformat": 4,
 "nbformat_minor": 5
}
