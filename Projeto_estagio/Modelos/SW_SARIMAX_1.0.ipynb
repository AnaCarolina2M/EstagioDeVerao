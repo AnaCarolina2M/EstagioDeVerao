{
 "cells": [
  {
   "cell_type": "markdown",
   "id": "2d338fc7-8bd3-46b3-bda2-68711c627226",
   "metadata": {},
   "source": [
    "<h3>Faz previsão com os dados de 2025 (não vistos pelo modelo) </h3>"
   ]
  },
  {
   "cell_type": "code",
   "execution_count": 3,
   "id": "2a1dc225-6b54-4579-b22a-e661b982c4a8",
   "metadata": {},
   "outputs": [],
   "source": [
    "# Libraries\n",
    "import pandas as pd\n",
    "import matplotlib.pyplot as plt\n",
    "from statsmodels.graphics.tsaplots import month_plot, quarter_plot\n",
    "from statsmodels.graphics.tsaplots import plot_acf, plot_pacf\n",
    "from statsmodels.tsa.seasonal import seasonal_decompose\n",
    "from sklearn.metrics import mean_absolute_error, mean_squared_error, mean_absolute_percentage_error\n",
    "from pmdarima import auto_arima, ARIMA, model_selection\n",
    "import numpy as np\n",
    "from sklearn.model_selection import ParameterGrid\n",
    "from sklearn.model_selection import GridSearchCV\n",
    "from sklearn.model_selection import cross_val_score\n",
    "import warnings\n",
    "warnings.filterwarnings(\"ignore\") # specify to ignore warning messages\n"
   ]
  },
  {
   "cell_type": "code",
   "execution_count": 3,
   "id": "1bda65df-f2d8-451f-99a1-8329f5e91f4a",
   "metadata": {},
   "outputs": [],
   "source": [
    "from sklearn.base import BaseEstimator, RegressorMixin\n",
    "from statsmodels.tsa.statespace.sarimax import SARIMAX\n",
    "import numpy as np\n",
    "\n",
    "class SARIMAXWrapper(BaseEstimator, RegressorMixin):\n",
    "    def __init__(self, p=1, d=1, q=1, P=0, D=0, Q=0, seasonal_periods=7):\n",
    "        # These parameters define the ARIMA and seasonal orders\n",
    "        self.p = p\n",
    "        self.d = d\n",
    "        self.q = q\n",
    "        self.P = P\n",
    "        self.D = D\n",
    "        self.Q = Q\n",
    "        self.seasonal_periods = seasonal_periods\n",
    "\n",
    "    def fit(self, X, y):\n",
    "        \"\"\"\n",
    "        Fit the SARIMAX model using the training data.\n",
    "        X: features (independent variables)\n",
    "        y: target (dependent variable)\n",
    "        \"\"\"\n",
    "        self.model = SARIMAX(endog=y, exog=X, \n",
    "                             order=(self.p, self.d, self.q),\n",
    "                             seasonal_order=(self.P, self.D, self.Q, self.seasonal_periods))\n",
    "        self.model_fitted = self.model.fit(disp=False)  # Silent fit to avoid clutter\n",
    "        return self\n",
    "\n",
    "    def predict(self, X):\n",
    "        \"\"\"\n",
    "        Make predictions using the fitted SARIMAX model.\n",
    "        X: features (independent variables)\n",
    "        \"\"\"\n",
    "        return self.model_fitted.predict(exog=X)\n",
    "\n",
    "    def get_params(self, deep=True):\n",
    "        \"\"\"\n",
    "        Return model parameters to use with scikit-learn.\n",
    "        \"\"\"\n",
    "        return {'p': self.p, 'd': self.d, 'q': self.q,\n",
    "                'P': self.P, 'D': self.D, 'Q': self.Q,\n",
    "                'seasonal_periods': self.seasonal_periods}\n",
    "\n",
    "    def set_params(self, **params):\n",
    "        \"\"\"\n",
    "        Set parameters for SARIMAX model.\n",
    "        \"\"\"\n",
    "        for key, value in params.items():\n",
    "            setattr(self, key, value)\n",
    "        return self\n"
   ]
  },
  {
   "cell_type": "code",
   "execution_count": 4,
   "id": "4da084f2-aae9-4cea-b487-a223d823770f",
   "metadata": {},
   "outputs": [],
   "source": [
    "# Function to assess model and visualize output\n",
    "def model_assessment(train, test, predictions, chart_title):\n",
    "  # Set the size of the plot to 10 inches by 4 inches\n",
    "  plt.figure(figsize = (10,4))\n",
    "  # Plot the train, test, and forecast data\n",
    "  plt.plot(train, label = 'Train')\n",
    "  plt.plot(test, label = 'Test')\n",
    "  plt.plot(predictions, label = \"Forecast\")\n",
    "  # add title and legend to the plot\n",
    "  plt.title(f\"Train, Test and Predictions with {chart_title}\")\n",
    "  plt.legend()\n",
    "  plt.show()\n",
    "\n",
    "  # Calculating the MAE, RMSE, and MAPE\n",
    "  mae = mean_absolute_error(test, predictions)\n",
    "  rmse = mean_squared_error(test, predictions, squared = False)\n",
    "  mape = mean_absolute_percentage_error(test, predictions)\n",
    "\n",
    "  # Print the calculated error metrics\n",
    "  print(f\"The MAE is {mae:.2f}\")\n",
    "  print(f\"The RMSE is {rmse:.2f}\")\n",
    "  print(f\"The MAPE is {100 * mape:.2f} %\")"
   ]
  },
  {
   "cell_type": "code",
   "execution_count": 5,
   "id": "fa2c07f4-4daf-4938-8599-719832a0ee81",
   "metadata": {},
   "outputs": [],
   "source": [
    "# Function to plot the future\n",
    "def plot_future(y, forecast, title):\n",
    "  # Set the size of the plot to 10 inches by 4 inches\n",
    "  plt.figure(figsize = (10,4))\n",
    "  # Plot the train and forecast data\n",
    "  plt.plot(y, label = 'Train')\n",
    "  plt.plot(forecast, label = \"Forecast\")\n",
    "  # add title and legend to the plot\n",
    "  plt.title(f\"Train and Forecast with {title}\")\n",
    "  plt.legend()\n",
    "  plt.show()"
   ]
  },
  {
   "cell_type": "code",
   "execution_count": 6,
   "id": "42c01df6-ac79-4f79-be2e-2d5ee33529d1",
   "metadata": {},
   "outputs": [],
   "source": [
    "df = pd.read_csv('df_eng_2.csv',index_col='data_hora',parse_dates=True)\n",
    "df =df.asfreq('W')"
   ]
  },
  {
   "cell_type": "code",
   "execution_count": 7,
   "id": "303dae48-308e-410e-ac9c-0dd8e4267d05",
   "metadata": {},
   "outputs": [],
   "source": [
    "df = df.drop(['Temp. Max. (C)','Temp. Min. (C)', 'Umi. Ins. (%)',\n",
    "       'Umi. Max. (%)', 'Umi. Min. (%)', 'Pto Orvalho Ins. (C)',\n",
    "       'Pto Orvalho Max. (C)', 'Pto Orvalho Min. (C)', 'Pressao Ins. (hPa)',\n",
    "       'Pressao Max. (hPa)', 'Pressao Min. (hPa)', 'Vel. Vento (m/s)',\n",
    "       'Dir. Vento (m/s)', 'Raj. Vento (m/s)',\n",
    "       'Chuva (mm)','Mes'],axis=1)"
   ]
  },
  {
   "cell_type": "code",
   "execution_count": 8,
   "id": "bba5220b-f49a-4ce5-a6b5-b40b9bca1619",
   "metadata": {},
   "outputs": [
    {
     "data": {
      "text/html": [
       "<div>\n",
       "<style scoped>\n",
       "    .dataframe tbody tr th:only-of-type {\n",
       "        vertical-align: middle;\n",
       "    }\n",
       "\n",
       "    .dataframe tbody tr th {\n",
       "        vertical-align: top;\n",
       "    }\n",
       "\n",
       "    .dataframe thead th {\n",
       "        text-align: right;\n",
       "    }\n",
       "</style>\n",
       "<table border=\"1\" class=\"dataframe\">\n",
       "  <thead>\n",
       "    <tr style=\"text-align: right;\">\n",
       "      <th></th>\n",
       "      <th>Unnamed: 0</th>\n",
       "      <th>Temp. Ins. (C)</th>\n",
       "      <th>Radiacao (KJ/m²)</th>\n",
       "      <th>Ano</th>\n",
       "    </tr>\n",
       "    <tr>\n",
       "      <th>data_hora</th>\n",
       "      <th></th>\n",
       "      <th></th>\n",
       "      <th></th>\n",
       "      <th></th>\n",
       "    </tr>\n",
       "  </thead>\n",
       "  <tbody>\n",
       "    <tr>\n",
       "      <th>2023-01-29</th>\n",
       "      <td>0</td>\n",
       "      <td>22.969444</td>\n",
       "      <td>1580.177778</td>\n",
       "      <td>2023</td>\n",
       "    </tr>\n",
       "    <tr>\n",
       "      <th>2023-02-05</th>\n",
       "      <td>1</td>\n",
       "      <td>24.509524</td>\n",
       "      <td>1767.392857</td>\n",
       "      <td>2023</td>\n",
       "    </tr>\n",
       "    <tr>\n",
       "      <th>2023-02-12</th>\n",
       "      <td>2</td>\n",
       "      <td>25.157143</td>\n",
       "      <td>1762.996429</td>\n",
       "      <td>2023</td>\n",
       "    </tr>\n",
       "    <tr>\n",
       "      <th>2023-02-19</th>\n",
       "      <td>3</td>\n",
       "      <td>25.451190</td>\n",
       "      <td>1892.951190</td>\n",
       "      <td>2023</td>\n",
       "    </tr>\n",
       "    <tr>\n",
       "      <th>2023-02-26</th>\n",
       "      <td>4</td>\n",
       "      <td>24.008333</td>\n",
       "      <td>1735.534524</td>\n",
       "      <td>2023</td>\n",
       "    </tr>\n",
       "  </tbody>\n",
       "</table>\n",
       "</div>"
      ],
      "text/plain": [
       "            Unnamed: 0  Temp. Ins. (C)  Radiacao (KJ/m²)   Ano\n",
       "data_hora                                                     \n",
       "2023-01-29           0       22.969444       1580.177778  2023\n",
       "2023-02-05           1       24.509524       1767.392857  2023\n",
       "2023-02-12           2       25.157143       1762.996429  2023\n",
       "2023-02-19           3       25.451190       1892.951190  2023\n",
       "2023-02-26           4       24.008333       1735.534524  2023"
      ]
     },
     "execution_count": 8,
     "metadata": {},
     "output_type": "execute_result"
    }
   ],
   "source": [
    "df.head()"
   ]
  },
  {
   "cell_type": "code",
   "execution_count": 9,
   "id": "62fec379-eb5f-46d0-83b7-0301aa8a92cf",
   "metadata": {},
   "outputs": [
    {
     "name": "stdout",
     "output_type": "stream",
     "text": [
      "            Temp. Ins. (C)   Ano  Radiacao (KJ/m²)\n",
      "data_hora                                         \n",
      "2023-01-29       22.969444  2023       1580.177778\n",
      "2023-02-05       24.509524  2023       1767.392857\n",
      "2023-02-12       25.157143  2023       1762.996429\n",
      "2023-02-19       25.451190  2023       1892.951190\n",
      "2023-02-26       24.008333  2023       1735.534524\n"
     ]
    }
   ],
   "source": [
    "# Reordenar as colunas do DataFrame\n",
    "new_order = ['Temp. Ins. (C)', 'Ano', 'Radiacao (KJ/m²)']  # Substitua pelos nomes das colunas na ordem desejada\n",
    "df_reordered = df[new_order]\n",
    "\n",
    "# Verificar o resultado\n",
    "print(df_reordered.head())\n"
   ]
  },
  {
   "cell_type": "code",
   "execution_count": 10,
   "id": "0ff313e6-b50d-413e-a148-427cf702c456",
   "metadata": {},
   "outputs": [
    {
     "name": "stdout",
     "output_type": "stream",
     "text": [
      "<class 'pandas.core.frame.DataFrame'>\n",
      "DatetimeIndex: 101 entries, 2023-01-29 to 2024-12-29\n",
      "Freq: W-SUN\n",
      "Data columns (total 3 columns):\n",
      " #   Column            Non-Null Count  Dtype  \n",
      "---  ------            --------------  -----  \n",
      " 0   Temp. Ins. (C)    101 non-null    float64\n",
      " 1   Ano               101 non-null    int64  \n",
      " 2   Radiacao (KJ/m²)  101 non-null    float64\n",
      "dtypes: float64(2), int64(1)\n",
      "memory usage: 3.2 KB\n"
     ]
    }
   ],
   "source": [
    "df_reordered.info()"
   ]
  },
  {
   "cell_type": "code",
   "execution_count": 11,
   "id": "42d588ee-ecc8-451f-a431-912f504c9af9",
   "metadata": {},
   "outputs": [],
   "source": [
    "df_reordered.columns = ['exog1','exog2','target']"
   ]
  },
  {
   "cell_type": "code",
   "execution_count": 12,
   "id": "c1c5b8ba-549c-4c79-abeb-394dbac319a5",
   "metadata": {},
   "outputs": [
    {
     "name": "stdout",
     "output_type": "stream",
     "text": [
      "p-value: 0.000000\n",
      "Evidence suggests that the time series is stationary.\n"
     ]
    }
   ],
   "source": [
    "from statsmodels.tsa.stattools import adfuller\n",
    "\n",
    "# Perform Augmented Dickey-Fuller test\n",
    "# 'result' contains the test statistic and the p-value.\n",
    "result = adfuller(df_reordered['target'])\n",
    "print('p-value: %f' % result[1])\n",
    "\n",
    "# Interpreting the results\n",
    "if result[1] < 0.05:\n",
    "    print(\"Evidence suggests that the time series is stationary.\")\n",
    "else:\n",
    "    print(\"Evidence suggests that the time series is not stationary.\")"
   ]
  },
  {
   "cell_type": "markdown",
   "id": "bf19e86a-0889-444c-aa20-90e7e49b780a",
   "metadata": {},
   "source": [
    "<h3>SARIMAX</h3>"
   ]
  },
  {
   "cell_type": "code",
   "execution_count": 13,
   "id": "9a5c5d32-bad6-4c2a-80b6-75055ad6cca1",
   "metadata": {},
   "outputs": [
    {
     "name": "stdout",
     "output_type": "stream",
     "text": [
      "Training data size: 71\n",
      "Test data size: 30\n"
     ]
    }
   ],
   "source": [
    "# Number of rows to reserve for testing\n",
    "test_weeks = 30  # You might want to call this test_rows if it represents rows, not weeks\n",
    "#df_without_test = df.iloc[:-test_weeks]\n",
    "# Split the data\n",
    "train, test = df_reordered.iloc[:-test_weeks], df_reordered.iloc[-test_weeks:]\n",
    "\n",
    "# Check the length of the train and test sets\n",
    "print(f\"Training data size: {len(train)}\")\n",
    "print(f\"Test data size: {len(test)}\")\n"
   ]
  },
  {
   "cell_type": "code",
   "execution_count": 14,
   "id": "2cd34eb5-d712-402e-9620-020fd58cd9b5",
   "metadata": {},
   "outputs": [
    {
     "name": "stdout",
     "output_type": "stream",
     "text": [
      "Training exog size: 71\n",
      "Test exog size: 30\n"
     ]
    }
   ],
   "source": [
    "# Split the Regressor Data into training and test\n",
    "test_weeks = 30 # Number of days to reserve for testing\n",
    "exog_train, exog_test = df_reordered.iloc[:-test_weeks,0:2], df_reordered.iloc[-test_weeks:,0:2]\n",
    "# Check the length of the train and test sets\n",
    "print(f\"Training exog size: {len(exog_train)}\")\n",
    "print(f\"Test exog size: {len(exog_test)}\")\n"
   ]
  },
  {
   "cell_type": "code",
   "execution_count": 15,
   "id": "d7159843-e162-4f53-b8cf-aba27b85cbc3",
   "metadata": {},
   "outputs": [
    {
     "data": {
      "text/html": [
       "<div>\n",
       "<style scoped>\n",
       "    .dataframe tbody tr th:only-of-type {\n",
       "        vertical-align: middle;\n",
       "    }\n",
       "\n",
       "    .dataframe tbody tr th {\n",
       "        vertical-align: top;\n",
       "    }\n",
       "\n",
       "    .dataframe thead th {\n",
       "        text-align: right;\n",
       "    }\n",
       "</style>\n",
       "<table border=\"1\" class=\"dataframe\">\n",
       "  <thead>\n",
       "    <tr style=\"text-align: right;\">\n",
       "      <th></th>\n",
       "      <th>exog1</th>\n",
       "      <th>exog2</th>\n",
       "    </tr>\n",
       "    <tr>\n",
       "      <th>data_hora</th>\n",
       "      <th></th>\n",
       "      <th></th>\n",
       "    </tr>\n",
       "  </thead>\n",
       "  <tbody>\n",
       "    <tr>\n",
       "      <th>2024-06-09</th>\n",
       "      <td>21.845833</td>\n",
       "      <td>2024</td>\n",
       "    </tr>\n",
       "    <tr>\n",
       "      <th>2024-06-16</th>\n",
       "      <td>22.260714</td>\n",
       "      <td>2024</td>\n",
       "    </tr>\n",
       "    <tr>\n",
       "      <th>2024-06-23</th>\n",
       "      <td>22.195238</td>\n",
       "      <td>2024</td>\n",
       "    </tr>\n",
       "    <tr>\n",
       "      <th>2024-06-30</th>\n",
       "      <td>23.281548</td>\n",
       "      <td>2024</td>\n",
       "    </tr>\n",
       "    <tr>\n",
       "      <th>2024-07-07</th>\n",
       "      <td>22.484524</td>\n",
       "      <td>2024</td>\n",
       "    </tr>\n",
       "    <tr>\n",
       "      <th>2024-07-14</th>\n",
       "      <td>23.455357</td>\n",
       "      <td>2024</td>\n",
       "    </tr>\n",
       "    <tr>\n",
       "      <th>2024-07-21</th>\n",
       "      <td>21.525000</td>\n",
       "      <td>2024</td>\n",
       "    </tr>\n",
       "    <tr>\n",
       "      <th>2024-07-28</th>\n",
       "      <td>22.029762</td>\n",
       "      <td>2024</td>\n",
       "    </tr>\n",
       "    <tr>\n",
       "      <th>2024-08-04</th>\n",
       "      <td>22.526190</td>\n",
       "      <td>2024</td>\n",
       "    </tr>\n",
       "    <tr>\n",
       "      <th>2024-08-11</th>\n",
       "      <td>22.765476</td>\n",
       "      <td>2024</td>\n",
       "    </tr>\n",
       "    <tr>\n",
       "      <th>2024-08-18</th>\n",
       "      <td>24.630952</td>\n",
       "      <td>2024</td>\n",
       "    </tr>\n",
       "    <tr>\n",
       "      <th>2024-08-25</th>\n",
       "      <td>26.138095</td>\n",
       "      <td>2024</td>\n",
       "    </tr>\n",
       "    <tr>\n",
       "      <th>2024-09-01</th>\n",
       "      <td>24.289286</td>\n",
       "      <td>2024</td>\n",
       "    </tr>\n",
       "    <tr>\n",
       "      <th>2024-09-08</th>\n",
       "      <td>27.419048</td>\n",
       "      <td>2024</td>\n",
       "    </tr>\n",
       "    <tr>\n",
       "      <th>2024-09-15</th>\n",
       "      <td>26.555952</td>\n",
       "      <td>2024</td>\n",
       "    </tr>\n",
       "    <tr>\n",
       "      <th>2024-09-22</th>\n",
       "      <td>28.133333</td>\n",
       "      <td>2024</td>\n",
       "    </tr>\n",
       "    <tr>\n",
       "      <th>2024-09-29</th>\n",
       "      <td>29.126190</td>\n",
       "      <td>2024</td>\n",
       "    </tr>\n",
       "    <tr>\n",
       "      <th>2024-10-06</th>\n",
       "      <td>29.895238</td>\n",
       "      <td>2024</td>\n",
       "    </tr>\n",
       "    <tr>\n",
       "      <th>2024-10-13</th>\n",
       "      <td>26.733333</td>\n",
       "      <td>2024</td>\n",
       "    </tr>\n",
       "    <tr>\n",
       "      <th>2024-10-20</th>\n",
       "      <td>22.558333</td>\n",
       "      <td>2024</td>\n",
       "    </tr>\n",
       "    <tr>\n",
       "      <th>2024-10-27</th>\n",
       "      <td>24.302381</td>\n",
       "      <td>2024</td>\n",
       "    </tr>\n",
       "    <tr>\n",
       "      <th>2024-11-03</th>\n",
       "      <td>22.984524</td>\n",
       "      <td>2024</td>\n",
       "    </tr>\n",
       "    <tr>\n",
       "      <th>2024-11-10</th>\n",
       "      <td>22.650000</td>\n",
       "      <td>2024</td>\n",
       "    </tr>\n",
       "    <tr>\n",
       "      <th>2024-11-17</th>\n",
       "      <td>22.021429</td>\n",
       "      <td>2024</td>\n",
       "    </tr>\n",
       "    <tr>\n",
       "      <th>2024-11-24</th>\n",
       "      <td>24.459524</td>\n",
       "      <td>2024</td>\n",
       "    </tr>\n",
       "    <tr>\n",
       "      <th>2024-12-01</th>\n",
       "      <td>24.511905</td>\n",
       "      <td>2024</td>\n",
       "    </tr>\n",
       "    <tr>\n",
       "      <th>2024-12-08</th>\n",
       "      <td>25.701786</td>\n",
       "      <td>2024</td>\n",
       "    </tr>\n",
       "    <tr>\n",
       "      <th>2024-12-15</th>\n",
       "      <td>24.872619</td>\n",
       "      <td>2024</td>\n",
       "    </tr>\n",
       "    <tr>\n",
       "      <th>2024-12-22</th>\n",
       "      <td>23.782143</td>\n",
       "      <td>2024</td>\n",
       "    </tr>\n",
       "    <tr>\n",
       "      <th>2024-12-29</th>\n",
       "      <td>23.147619</td>\n",
       "      <td>2024</td>\n",
       "    </tr>\n",
       "  </tbody>\n",
       "</table>\n",
       "</div>"
      ],
      "text/plain": [
       "                exog1  exog2\n",
       "data_hora                   \n",
       "2024-06-09  21.845833   2024\n",
       "2024-06-16  22.260714   2024\n",
       "2024-06-23  22.195238   2024\n",
       "2024-06-30  23.281548   2024\n",
       "2024-07-07  22.484524   2024\n",
       "2024-07-14  23.455357   2024\n",
       "2024-07-21  21.525000   2024\n",
       "2024-07-28  22.029762   2024\n",
       "2024-08-04  22.526190   2024\n",
       "2024-08-11  22.765476   2024\n",
       "2024-08-18  24.630952   2024\n",
       "2024-08-25  26.138095   2024\n",
       "2024-09-01  24.289286   2024\n",
       "2024-09-08  27.419048   2024\n",
       "2024-09-15  26.555952   2024\n",
       "2024-09-22  28.133333   2024\n",
       "2024-09-29  29.126190   2024\n",
       "2024-10-06  29.895238   2024\n",
       "2024-10-13  26.733333   2024\n",
       "2024-10-20  22.558333   2024\n",
       "2024-10-27  24.302381   2024\n",
       "2024-11-03  22.984524   2024\n",
       "2024-11-10  22.650000   2024\n",
       "2024-11-17  22.021429   2024\n",
       "2024-11-24  24.459524   2024\n",
       "2024-12-01  24.511905   2024\n",
       "2024-12-08  25.701786   2024\n",
       "2024-12-15  24.872619   2024\n",
       "2024-12-22  23.782143   2024\n",
       "2024-12-29  23.147619   2024"
      ]
     },
     "execution_count": 15,
     "metadata": {},
     "output_type": "execute_result"
    }
   ],
   "source": [
    "exog_test"
   ]
  },
  {
   "cell_type": "code",
   "execution_count": 16,
   "id": "d1cc4904-a046-4eb9-8a38-3e798edaee3d",
   "metadata": {},
   "outputs": [
    {
     "data": {
      "text/html": [
       "<table class=\"simpletable\">\n",
       "<caption>SARIMAX Results</caption>\n",
       "<tr>\n",
       "  <th>Dep. Variable:</th>           <td>y</td>        <th>  No. Observations:  </th>    <td>71</td>   \n",
       "</tr>\n",
       "<tr>\n",
       "  <th>Model:</th>           <td>SARIMAX(0, 0, 1)</td> <th>  Log Likelihood     </th> <td>-458.710</td>\n",
       "</tr>\n",
       "<tr>\n",
       "  <th>Date:</th>            <td>Wed, 26 Feb 2025</td> <th>  AIC                </th>  <td>925.419</td>\n",
       "</tr>\n",
       "<tr>\n",
       "  <th>Time:</th>                <td>15:33:53</td>     <th>  BIC                </th>  <td>934.470</td>\n",
       "</tr>\n",
       "<tr>\n",
       "  <th>Sample:</th>             <td>01-29-2023</td>    <th>  HQIC               </th>  <td>929.019</td>\n",
       "</tr>\n",
       "<tr>\n",
       "  <th></th>                   <td>- 06-02-2024</td>   <th>                     </th>     <td> </td>   \n",
       "</tr>\n",
       "<tr>\n",
       "  <th>Covariance Type:</th>        <td>opg</td>       <th>                     </th>     <td> </td>   \n",
       "</tr>\n",
       "</table>\n",
       "<table class=\"simpletable\">\n",
       "<tr>\n",
       "     <td></td>       <th>coef</th>     <th>std err</th>      <th>z</th>      <th>P>|z|</th>  <th>[0.025</th>    <th>0.975]</th>  \n",
       "</tr>\n",
       "<tr>\n",
       "  <th>exog1</th>  <td>   89.3046</td> <td>   11.246</td> <td>    7.941</td> <td> 0.000</td> <td>   67.262</td> <td>  111.347</td>\n",
       "</tr>\n",
       "<tr>\n",
       "  <th>exog2</th>  <td>   -0.2942</td> <td>    0.138</td> <td>   -2.130</td> <td> 0.033</td> <td>   -0.565</td> <td>   -0.023</td>\n",
       "</tr>\n",
       "<tr>\n",
       "  <th>ma.L1</th>  <td>    0.3642</td> <td>    0.122</td> <td>    2.993</td> <td> 0.003</td> <td>    0.126</td> <td>    0.603</td>\n",
       "</tr>\n",
       "<tr>\n",
       "  <th>sigma2</th> <td> 2.443e+04</td> <td> 5201.745</td> <td>    4.696</td> <td> 0.000</td> <td> 1.42e+04</td> <td> 3.46e+04</td>\n",
       "</tr>\n",
       "</table>\n",
       "<table class=\"simpletable\">\n",
       "<tr>\n",
       "  <th>Ljung-Box (L1) (Q):</th>     <td>0.00</td> <th>  Jarque-Bera (JB):  </th> <td>1.55</td> \n",
       "</tr>\n",
       "<tr>\n",
       "  <th>Prob(Q):</th>                <td>0.95</td> <th>  Prob(JB):          </th> <td>0.46</td> \n",
       "</tr>\n",
       "<tr>\n",
       "  <th>Heteroskedasticity (H):</th> <td>0.89</td> <th>  Skew:              </th> <td>-0.22</td>\n",
       "</tr>\n",
       "<tr>\n",
       "  <th>Prob(H) (two-sided):</th>    <td>0.79</td> <th>  Kurtosis:          </th> <td>2.42</td> \n",
       "</tr>\n",
       "</table><br/><br/>Warnings:<br/>[1] Covariance matrix calculated using the outer product of gradients (complex-step)."
      ],
      "text/latex": [
       "\\begin{center}\n",
       "\\begin{tabular}{lclc}\n",
       "\\toprule\n",
       "\\textbf{Dep. Variable:}          &        y         & \\textbf{  No. Observations:  } &     71      \\\\\n",
       "\\textbf{Model:}                  & SARIMAX(0, 0, 1) & \\textbf{  Log Likelihood     } &  -458.710   \\\\\n",
       "\\textbf{Date:}                   & Wed, 26 Feb 2025 & \\textbf{  AIC                } &  925.419    \\\\\n",
       "\\textbf{Time:}                   &     15:33:53     & \\textbf{  BIC                } &  934.470    \\\\\n",
       "\\textbf{Sample:}                 &    01-29-2023    & \\textbf{  HQIC               } &  929.019    \\\\\n",
       "\\textbf{}                        &   - 06-02-2024   & \\textbf{                     } &             \\\\\n",
       "\\textbf{Covariance Type:}        &       opg        & \\textbf{                     } &             \\\\\n",
       "\\bottomrule\n",
       "\\end{tabular}\n",
       "\\begin{tabular}{lcccccc}\n",
       "                & \\textbf{coef} & \\textbf{std err} & \\textbf{z} & \\textbf{P$> |$z$|$} & \\textbf{[0.025} & \\textbf{0.975]}  \\\\\n",
       "\\midrule\n",
       "\\textbf{exog1}  &      89.3046  &       11.246     &     7.941  &         0.000        &       67.262    &      111.347     \\\\\n",
       "\\textbf{exog2}  &      -0.2942  &        0.138     &    -2.130  &         0.033        &       -0.565    &       -0.023     \\\\\n",
       "\\textbf{ma.L1}  &       0.3642  &        0.122     &     2.993  &         0.003        &        0.126    &        0.603     \\\\\n",
       "\\textbf{sigma2} &    2.443e+04  &     5201.745     &     4.696  &         0.000        &     1.42e+04    &     3.46e+04     \\\\\n",
       "\\bottomrule\n",
       "\\end{tabular}\n",
       "\\begin{tabular}{lclc}\n",
       "\\textbf{Ljung-Box (L1) (Q):}     & 0.00 & \\textbf{  Jarque-Bera (JB):  } &  1.55  \\\\\n",
       "\\textbf{Prob(Q):}                & 0.95 & \\textbf{  Prob(JB):          } &  0.46  \\\\\n",
       "\\textbf{Heteroskedasticity (H):} & 0.89 & \\textbf{  Skew:              } & -0.22  \\\\\n",
       "\\textbf{Prob(H) (two-sided):}    & 0.79 & \\textbf{  Kurtosis:          } &  2.42  \\\\\n",
       "\\bottomrule\n",
       "\\end{tabular}\n",
       "%\\caption{SARIMAX Results}\n",
       "\\end{center}\n",
       "\n",
       "Warnings: \\newline\n",
       " [1] Covariance matrix calculated using the outer product of gradients (complex-step)."
      ],
      "text/plain": [
       "<class 'statsmodels.iolib.summary.Summary'>\n",
       "\"\"\"\n",
       "                               SARIMAX Results                                \n",
       "==============================================================================\n",
       "Dep. Variable:                      y   No. Observations:                   71\n",
       "Model:               SARIMAX(0, 0, 1)   Log Likelihood                -458.710\n",
       "Date:                Wed, 26 Feb 2025   AIC                            925.419\n",
       "Time:                        15:33:53   BIC                            934.470\n",
       "Sample:                    01-29-2023   HQIC                           929.019\n",
       "                         - 06-02-2024                                         \n",
       "Covariance Type:                  opg                                         \n",
       "==============================================================================\n",
       "                 coef    std err          z      P>|z|      [0.025      0.975]\n",
       "------------------------------------------------------------------------------\n",
       "exog1         89.3046     11.246      7.941      0.000      67.262     111.347\n",
       "exog2         -0.2942      0.138     -2.130      0.033      -0.565      -0.023\n",
       "ma.L1          0.3642      0.122      2.993      0.003       0.126       0.603\n",
       "sigma2      2.443e+04   5201.745      4.696      0.000    1.42e+04    3.46e+04\n",
       "===================================================================================\n",
       "Ljung-Box (L1) (Q):                   0.00   Jarque-Bera (JB):                 1.55\n",
       "Prob(Q):                              0.95   Prob(JB):                         0.46\n",
       "Heteroskedasticity (H):               0.89   Skew:                            -0.22\n",
       "Prob(H) (two-sided):                  0.79   Kurtosis:                         2.42\n",
       "===================================================================================\n",
       "\n",
       "Warnings:\n",
       "[1] Covariance matrix calculated using the outer product of gradients (complex-step).\n",
       "\"\"\""
      ]
     },
     "execution_count": 16,
     "metadata": {},
     "output_type": "execute_result"
    }
   ],
   "source": [
    "model_sarimax = auto_arima(train['target'],\n",
    "                           m = 52,\n",
    "                           X = exog_train)\n",
    "model_sarimax.summary()"
   ]
  },
  {
   "cell_type": "code",
   "execution_count": 17,
   "id": "88a6f3ac-76f0-444e-886f-b3b0ce9f9004",
   "metadata": {},
   "outputs": [
    {
     "data": {
      "text/plain": [
       "2024-06-09    1378.774875\n",
       "2024-06-16    1392.608779\n",
       "2024-06-23    1386.761455\n",
       "2024-06-30    1483.773875\n",
       "2024-07-07    1412.595995\n",
       "2024-07-14    1499.295863\n",
       "2024-07-21    1326.906121\n",
       "2024-07-28    1371.983673\n",
       "2024-08-04    1416.317020\n",
       "2024-08-11    1437.686331\n",
       "2024-08-18    1604.281906\n",
       "2024-08-25    1738.876673\n",
       "2024-09-01    1573.769507\n",
       "2024-09-08    1853.271592\n",
       "2024-09-15    1776.193231\n",
       "2024-09-22    1917.060581\n",
       "2024-09-29    2005.727275\n",
       "2024-10-06    2074.406753\n",
       "2024-10-13    1792.034163\n",
       "2024-10-20    1419.187524\n",
       "2024-10-27    1574.938972\n",
       "2024-11-03    1457.248288\n",
       "2024-11-10    1427.373778\n",
       "2024-11-17    1371.239468\n",
       "2024-11-24    1588.972549\n",
       "2024-12-01    1593.650408\n",
       "2024-12-08    1699.912232\n",
       "2024-12-15    1625.863848\n",
       "2024-12-22    1528.479325\n",
       "2024-12-29    1471.813440\n",
       "Freq: W-SUN, dtype: float64"
      ]
     },
     "execution_count": 17,
     "metadata": {},
     "output_type": "execute_result"
    }
   ],
   "source": [
    "#PREVISÕES COM DADOS DE TESTE\n",
    "predictions_sarimax = model_sarimax.predict(n_periods = len(test),\n",
    "                                            X = exog_test)\n",
    "predictions_sarimax"
   ]
  },
  {
   "cell_type": "code",
   "execution_count": 18,
   "id": "de076eea-7cb9-46ce-bc28-6ba640b3f730",
   "metadata": {},
   "outputs": [
    {
     "data": {
      "image/png": "[encoded data removed]",
      "text/plain": [
       "<Figure size 1000x400 with 1 Axes>"
      ]
     },
     "metadata": {},
     "output_type": "display_data"
    },
    {
     "name": "stdout",
     "output_type": "stream",
     "text": [
      "The MAE is 132.64\n",
      "The RMSE is 166.59\n",
      "The MAPE is 9.13 %\n"
     ]
    }
   ],
   "source": [
    "model_assessment(train['target'], test['target'], predictions_sarimax, \"SARIMAX\")"
   ]
  },
  {
   "cell_type": "markdown",
   "id": "4e93d0ea-8f6e-498a-ba81-302f69675670",
   "metadata": {},
   "source": [
    "<h3>Cross Validation</h3>"
   ]
  },
  {
   "cell_type": "markdown",
   "id": "32f411f3-a127-406f-963b-0725d83d71d7",
   "metadata": {},
   "source": [
    "<h4>Best parameters: ({'D': 0, 'P': 0, 'Q': 0, 'd': 1, 'p': 1, 'q': 1}, 233.4148052748329)</h4>"
   ]
  },
  {
   "cell_type": "code",
   "execution_count": 19,
   "id": "174e745b-3b81-4b31-95fd-084ba02636b8",
   "metadata": {},
   "outputs": [],
   "source": [
    "model_cv = ARIMA(order = (0, 0, 1), seasonal_order = (0, 0, 0, 52))"
   ]
  },
  {
   "cell_type": "code",
   "execution_count": 20,
   "id": "4f6f7563-5460-4f7d-8bf5-8cc9d9057f3b",
   "metadata": {},
   "outputs": [],
   "source": [
    "cv = model_selection.RollingForecastCV(h = 15, # forecast horizon\n",
    "                                       step = 4, # moves the validation window by n time steps each iteration\n",
    "                                       initial = train.shape[0] - 70) # starting point for the first training set"
   ]
  },
  {
   "cell_type": "code",
   "execution_count": 21,
   "id": "33b053ec-e754-4e90-9ed5-33d3f0a22259",
   "metadata": {},
   "outputs": [],
   "source": [
    "cv_score = model_selection.cross_val_score(model_cv,\n",
    "                                           y=train['target'],  # Target variable 'y'\n",
    "                                           X=exog_train,  # Explanatory variables from columns 1 and 2\n",
    "                                           scoring='mean_squared_error',  # Evaluation metric: Mean Squared Error\n",
    "                                           cv=cv,  # Cross-validation strategy\n",
    "                                           verbose=1,  # Verbosity level\n",
    "                                           error_score=10000000000000000000000  # Value to assign if fitting error occurs\n",
    "                                           )"
   ]
  },
  {
   "cell_type": "code",
   "execution_count": 22,
   "id": "d650e69b-74e0-43e0-870f-446bf030f0d0",
   "metadata": {},
   "outputs": [
    {
     "name": "stdout",
     "output_type": "stream",
     "text": [
      "The RMSE is 96362411165\n"
     ]
    }
   ],
   "source": [
    "# Calculate Root Mean Squared Error (RMSE) using cross-validated scores.\n",
    "rmse = np.sqrt(np.average(cv_score))\n",
    "print(f\"The RMSE is {int(rmse)}\")"
   ]
  },
  {
   "cell_type": "markdown",
   "id": "745ad065-3881-4547-a6f5-2ec839cb491f",
   "metadata": {},
   "source": [
    "<h3>Parameter tuning</h3>"
   ]
  },
  {
   "cell_type": "code",
   "execution_count": 23,
   "id": "402f668c-514f-4a72-a302-0c52db6980cf",
   "metadata": {},
   "outputs": [
    {
     "data": {
      "text/plain": [
       "72"
      ]
     },
     "execution_count": 23,
     "metadata": {},
     "output_type": "execute_result"
    }
   ],
   "source": [
    "param_grid = {'p': [1,2,3],\n",
    "              'd': [0,1],\n",
    "              'q': [1,2,3],\n",
    "              'P': [1,2],\n",
    "              'D': [0],\n",
    "              'Q': [1,2]}\n",
    "grid = ParameterGrid(param_grid)\n",
    "len(list(grid))"
   ]
  },
  {
   "cell_type": "code",
   "execution_count": 24,
   "id": "a83f8895-45b8-4389-918f-8d9814ab6eff",
   "metadata": {},
   "outputs": [],
   "source": [
    "# Initialize an empty list to store RMSE values for each parameter set\n",
    "rmse_list = []\n",
    "\n",
    "# Iterate over each set of parameters in the grid\n",
    "for params in grid:\n",
    "\n",
    "  # Build an ARIMA model with the current set of parameters\n",
    "  model = ARIMA(order=(params['p'], params['d'], params['q']),\n",
    "                seasonal_order=(params['P'], params['D'], params['Q'], 52))\n",
    "\n",
    "  # Define the Rolling Forecast Cross-Validation strategy\n",
    "  cv = model_selection.RollingForecastCV(h=15,\n",
    "                                         step=4,\n",
    "                                         initial=train.shape[0]-70)\n",
    "\n",
    "  # Perform cross-validation scoring with the ARIMA model\n",
    "  cv_score = model_selection.cross_val_score(model,\n",
    "                                             y=train['target'],  # Target variable 'y'\n",
    "                                             X=exog_train,  # Explanatory variables from columns 1 and 2\n",
    "                                             scoring='mean_squared_error',  # Evaluation metric: Mean Squared Error\n",
    "                                             cv=cv,  # Cross-validation strategy\n",
    "                                             verbose=1,  # Verbosity level\n",
    "                                             error_score=10000000000000000000000  # Value to assign if fitting error occurs\n",
    "                                             )\n",
    "\n",
    "  # Calculate RMSE and store the error\n",
    "  rmse = np.sqrt(np.average(cv_score))\n",
    "  rmse_list.append(rmse)"
   ]
  },
  {
   "cell_type": "code",
   "execution_count": 26,
   "id": "22c3e6ce-325b-402d-9760-7e811ce26553",
   "metadata": {},
   "outputs": [
    {
     "name": "stdout",
     "output_type": "stream",
     "text": [
      "[164.80476650658727, 168.93157936502269, 169.03466599490963, 175.216155948566, 174.53349018258032, 158.91895091771468, 177.84910740510327, 176.32114683559823, 170.22401992672383, 152.62972510735577, 149.9875257135334, 151.58378861942853, 136.3297617490089, 145.5214043955934, 189.19483290663894, 143.6952466793351, 167.40626319145298, 171.9861149027215, 164.56955023582864, 166.66898469397844, 167.436986983265, 176.5881116619919, 174.5996967897106, 158.5666427498304, 178.26677588138145, 175.99559765574904, 172.65058393937514, 139.38976675277138, 151.1666319318527, 200.9884153178821, 132.88158162911478, 146.65135396756614, 177.1795065193814, 135.04933438476536, 176.5745521855392, 188.4434387455676, 165.36217187624112, 169.92242233840668, 167.56355144927272, 177.53566761255004, 174.81569713443974, 157.98367010137483, 178.6413585965691, 176.37481838663098, 170.77178600564486, 133.33191607098038, 127.84177809419957, 198.1125486252695, 132.21672547807955, 149.1501669461339, 173.4729607580954, 179.62967570030415, 178.7340080575216, 182.97385764019145, 191.30610200722816, 167.97656543615108, 167.68651702189095, 176.4643744430251, 174.64868589584626, 159.20941133601568, 177.43307493082762, 176.11290382539016, 171.8386295100743, 137.81546621020505, 149.0436193097492, 196.71708625023342, 161.2718268901037, 141.7724472399695, 178.65465895518875, 144.08075353710393, 172.42599575007156, 202.28330551133536]\n"
     ]
    }
   ],
   "source": [
    "# Initialize an empty list to store RMSE values for each parameter set\n",
    "rmse_list = []\n",
    "\n",
    "# Iterate over each set of parameters in the grid\n",
    "for params in grid:\n",
    "\n",
    "    # Build an ARIMA model with the current set of parameters\n",
    "    model = ARIMA(order=(params['p'], params['d'], params['q']),\n",
    "                  seasonal_order=(params['P'], params['D'], params['Q'], 52))\n",
    "\n",
    "    # Define the Rolling Forecast Cross-Validation strategy\n",
    "    cv = model_selection.RollingForecastCV(h=10,\n",
    "                                           step=4,\n",
    "                                           initial=train.shape[0]-70)\n",
    "\n",
    "    # Perform cross-validation scoring with the ARIMA model\n",
    "    try:\n",
    "        cv_score = model_selection.cross_val_score(model,\n",
    "                                                   y=train['target'],  # Target variable 'y'\n",
    "                                                   X=exog_train,  # Explanatory variables from columns 1 and 2\n",
    "                                                   scoring='mean_squared_error',  # Evaluate using MSE\n",
    "                                                   cv=cv,  # Cross-validation strategy\n",
    "                                                   verbose=1,  # Verbosity level\n",
    "                                                   error_score=np.nan  # Use NaN to handle errors gracefully\n",
    "                                                   )\n",
    "        \n",
    "        # Calculate RMSE and store the error\n",
    "        rmse = np.sqrt(np.nanmean(cv_score))  # Ensure NaN values are handled\n",
    "        rmse_list.append(rmse)\n",
    "        \n",
    "    except Exception as e:\n",
    "        print(f\"Error during fitting with params {params}: {e}\")\n",
    "        rmse_list.append(np.nan)  # In case of error, append NaN to the RMSE list\n",
    "\n",
    "# Print the RMSE results for each parameter set\n",
    "print(rmse_list)\n"
   ]
  },
  {
   "cell_type": "code",
   "execution_count": 27,
   "id": "e1c608b9-5389-4f5b-bb19-afffbca972b3",
   "metadata": {},
   "outputs": [
    {
     "name": "stdout",
     "output_type": "stream",
     "text": [
      "                                     SARIMAX Results                                      \n",
      "==========================================================================================\n",
      "Dep. Variable:                                  y   No. Observations:                   71\n",
      "Model:             SARIMAX(1, 0, 1)x(1, 0, 1, 52)   Log Likelihood                -479.660\n",
      "Date:                            Wed, 26 Feb 2025   AIC                            971.321\n",
      "Time:                                    16:28:14   BIC                            984.897\n",
      "Sample:                                01-29-2023   HQIC                           976.720\n",
      "                                     - 06-02-2024                                         \n",
      "Covariance Type:                              opg                                         \n",
      "==============================================================================\n",
      "                 coef    std err          z      P>|z|      [0.025      0.975]\n",
      "------------------------------------------------------------------------------\n",
      "intercept   1148.7706   1723.360      0.667      0.505   -2228.953    4526.494\n",
      "ar.L1          0.1070      0.259      0.413      0.679      -0.400       0.614\n",
      "ma.L1          0.3519      0.238      1.478      0.139      -0.115       0.819\n",
      "ar.S.L52       0.1905      1.111      0.172      0.864      -1.987       2.368\n",
      "ma.S.L52       0.3891      1.266      0.307      0.758      -2.091       2.870\n",
      "sigma2      3.425e+04    223.367    153.313      0.000    3.38e+04    3.47e+04\n",
      "===================================================================================\n",
      "Ljung-Box (L1) (Q):                   0.01   Jarque-Bera (JB):                 0.91\n",
      "Prob(Q):                              0.92   Prob(JB):                         0.64\n",
      "Heteroskedasticity (H):               1.72   Skew:                             0.25\n",
      "Prob(H) (two-sided):                  0.19   Kurtosis:                         2.77\n",
      "===================================================================================\n",
      "\n",
      "Warnings:\n",
      "[1] Covariance matrix calculated using the outer product of gradients (complex-step).\n",
      "[2] Covariance matrix is singular or near-singular, with condition number 1.75e+18. Standard errors may be unstable.\n"
     ]
    }
   ],
   "source": [
    "# Teste o ajuste do modelo diretamente com um conjunto de dados pequeno\n",
    "params = {'p': 1, 'd': 0, 'q': 1, 'P': 1, 'D': 0, 'Q': 1}  # Escolha um conjunto de parâmetros pequeno\n",
    "model = ARIMA(order=(params['p'], params['d'], params['q']),\n",
    "              seasonal_order=(params['P'], params['D'], params['Q'], 52))\n",
    "\n",
    "# Ajuste o modelo diretamente com o conjunto de dados\n",
    "try:\n",
    "    model_fit = model.fit(train['target'])\n",
    "    print(model_fit.summary())\n",
    "except Exception as e:\n",
    "    print(f\"Erro ao ajustar o modelo: {e}\")\n"
   ]
  },
  {
   "cell_type": "code",
   "execution_count": 28,
   "id": "128bbae1-8bdf-4a67-9261-827c8899a767",
   "metadata": {},
   "outputs": [
    {
     "data": {
      "text/html": [
       "<div>\n",
       "<style scoped>\n",
       "    .dataframe tbody tr th:only-of-type {\n",
       "        vertical-align: middle;\n",
       "    }\n",
       "\n",
       "    .dataframe tbody tr th {\n",
       "        vertical-align: top;\n",
       "    }\n",
       "\n",
       "    .dataframe thead th {\n",
       "        text-align: right;\n",
       "    }\n",
       "</style>\n",
       "<table border=\"1\" class=\"dataframe\">\n",
       "  <thead>\n",
       "    <tr style=\"text-align: right;\">\n",
       "      <th></th>\n",
       "      <th>D</th>\n",
       "      <th>P</th>\n",
       "      <th>Q</th>\n",
       "      <th>d</th>\n",
       "      <th>p</th>\n",
       "      <th>q</th>\n",
       "      <th>rmse</th>\n",
       "    </tr>\n",
       "  </thead>\n",
       "  <tbody>\n",
       "    <tr>\n",
       "      <th>0</th>\n",
       "      <td>0</td>\n",
       "      <td>1</td>\n",
       "      <td>1</td>\n",
       "      <td>0</td>\n",
       "      <td>1</td>\n",
       "      <td>1</td>\n",
       "      <td>164.804767</td>\n",
       "    </tr>\n",
       "    <tr>\n",
       "      <th>1</th>\n",
       "      <td>0</td>\n",
       "      <td>1</td>\n",
       "      <td>1</td>\n",
       "      <td>0</td>\n",
       "      <td>1</td>\n",
       "      <td>2</td>\n",
       "      <td>168.931579</td>\n",
       "    </tr>\n",
       "    <tr>\n",
       "      <th>2</th>\n",
       "      <td>0</td>\n",
       "      <td>1</td>\n",
       "      <td>1</td>\n",
       "      <td>0</td>\n",
       "      <td>1</td>\n",
       "      <td>3</td>\n",
       "      <td>169.034666</td>\n",
       "    </tr>\n",
       "    <tr>\n",
       "      <th>3</th>\n",
       "      <td>0</td>\n",
       "      <td>1</td>\n",
       "      <td>1</td>\n",
       "      <td>0</td>\n",
       "      <td>2</td>\n",
       "      <td>1</td>\n",
       "      <td>175.216156</td>\n",
       "    </tr>\n",
       "    <tr>\n",
       "      <th>4</th>\n",
       "      <td>0</td>\n",
       "      <td>1</td>\n",
       "      <td>1</td>\n",
       "      <td>0</td>\n",
       "      <td>2</td>\n",
       "      <td>2</td>\n",
       "      <td>174.533490</td>\n",
       "    </tr>\n",
       "    <tr>\n",
       "      <th>...</th>\n",
       "      <td>...</td>\n",
       "      <td>...</td>\n",
       "      <td>...</td>\n",
       "      <td>...</td>\n",
       "      <td>...</td>\n",
       "      <td>...</td>\n",
       "      <td>...</td>\n",
       "    </tr>\n",
       "    <tr>\n",
       "      <th>67</th>\n",
       "      <td>0</td>\n",
       "      <td>2</td>\n",
       "      <td>2</td>\n",
       "      <td>1</td>\n",
       "      <td>2</td>\n",
       "      <td>2</td>\n",
       "      <td>141.772447</td>\n",
       "    </tr>\n",
       "    <tr>\n",
       "      <th>68</th>\n",
       "      <td>0</td>\n",
       "      <td>2</td>\n",
       "      <td>2</td>\n",
       "      <td>1</td>\n",
       "      <td>2</td>\n",
       "      <td>3</td>\n",
       "      <td>178.654659</td>\n",
       "    </tr>\n",
       "    <tr>\n",
       "      <th>69</th>\n",
       "      <td>0</td>\n",
       "      <td>2</td>\n",
       "      <td>2</td>\n",
       "      <td>1</td>\n",
       "      <td>3</td>\n",
       "      <td>1</td>\n",
       "      <td>144.080754</td>\n",
       "    </tr>\n",
       "    <tr>\n",
       "      <th>70</th>\n",
       "      <td>0</td>\n",
       "      <td>2</td>\n",
       "      <td>2</td>\n",
       "      <td>1</td>\n",
       "      <td>3</td>\n",
       "      <td>2</td>\n",
       "      <td>172.425996</td>\n",
       "    </tr>\n",
       "    <tr>\n",
       "      <th>71</th>\n",
       "      <td>0</td>\n",
       "      <td>2</td>\n",
       "      <td>2</td>\n",
       "      <td>1</td>\n",
       "      <td>3</td>\n",
       "      <td>3</td>\n",
       "      <td>202.283306</td>\n",
       "    </tr>\n",
       "  </tbody>\n",
       "</table>\n",
       "<p>72 rows × 7 columns</p>\n",
       "</div>"
      ],
      "text/plain": [
       "    D  P  Q  d  p  q        rmse\n",
       "0   0  1  1  0  1  1  164.804767\n",
       "1   0  1  1  0  1  2  168.931579\n",
       "2   0  1  1  0  1  3  169.034666\n",
       "3   0  1  1  0  2  1  175.216156\n",
       "4   0  1  1  0  2  2  174.533490\n",
       ".. .. .. .. .. .. ..         ...\n",
       "67  0  2  2  1  2  2  141.772447\n",
       "68  0  2  2  1  2  3  178.654659\n",
       "69  0  2  2  1  3  1  144.080754\n",
       "70  0  2  2  1  3  2  172.425996\n",
       "71  0  2  2  1  3  3  202.283306\n",
       "\n",
       "[72 rows x 7 columns]"
      ]
     },
     "execution_count": 28,
     "metadata": {},
     "output_type": "execute_result"
    }
   ],
   "source": [
    "# Create a DataFrame to store the tuning results with parameters and corresponding RMSE values\n",
    "tuning_results = pd.DataFrame(grid)\n",
    "\n",
    "# Add the RMSE values calculated during parameter tuning to the DataFrame\n",
    "tuning_results['rmse'] = rmse_list\n",
    "\n",
    "tuning_results"
   ]
  },
  {
   "cell_type": "code",
   "execution_count": 110,
   "id": "d0dfcdd1-05e7-4e2f-b6d4-f853addb034e",
   "metadata": {},
   "outputs": [
    {
     "data": {
      "text/html": [
       "<div>\n",
       "<style scoped>\n",
       "    .dataframe tbody tr th:only-of-type {\n",
       "        vertical-align: middle;\n",
       "    }\n",
       "\n",
       "    .dataframe tbody tr th {\n",
       "        vertical-align: top;\n",
       "    }\n",
       "\n",
       "    .dataframe thead th {\n",
       "        text-align: right;\n",
       "    }\n",
       "</style>\n",
       "<table border=\"1\" class=\"dataframe\">\n",
       "  <thead>\n",
       "    <tr style=\"text-align: right;\">\n",
       "      <th></th>\n",
       "      <th>13</th>\n",
       "    </tr>\n",
       "  </thead>\n",
       "  <tbody>\n",
       "    <tr>\n",
       "      <th>D</th>\n",
       "      <td>0.000000</td>\n",
       "    </tr>\n",
       "    <tr>\n",
       "      <th>P</th>\n",
       "      <td>1.000000</td>\n",
       "    </tr>\n",
       "    <tr>\n",
       "      <th>Q</th>\n",
       "      <td>1.000000</td>\n",
       "    </tr>\n",
       "    <tr>\n",
       "      <th>d</th>\n",
       "      <td>1.000000</td>\n",
       "    </tr>\n",
       "    <tr>\n",
       "      <th>p</th>\n",
       "      <td>2.000000</td>\n",
       "    </tr>\n",
       "    <tr>\n",
       "      <th>q</th>\n",
       "      <td>2.000000</td>\n",
       "    </tr>\n",
       "    <tr>\n",
       "      <th>rmse</th>\n",
       "      <td>0.088758</td>\n",
       "    </tr>\n",
       "  </tbody>\n",
       "</table>\n",
       "</div>"
      ],
      "text/plain": [
       "            13\n",
       "D     0.000000\n",
       "P     1.000000\n",
       "Q     1.000000\n",
       "d     1.000000\n",
       "p     2.000000\n",
       "q     2.000000\n",
       "rmse  0.088758"
      ]
     },
     "execution_count": 110,
     "metadata": {},
     "output_type": "execute_result"
    }
   ],
   "source": [
    "# Save the best parameters\n",
    "best_params = tuning_results[tuning_results['rmse'] == tuning_results['rmse'].min()].transpose()\n",
    "best_params"
   ]
  },
  {
   "cell_type": "markdown",
   "id": "cf582403-59aa-4ff7-95df-48eecb5e3ec5",
   "metadata": {},
   "source": [
    "<h3>Predicting the future - Using 2025 dataset</h3>"
   ]
  },
  {
   "cell_type": "code",
   "execution_count": 194,
   "id": "c03aac9d-581a-41db-b3bd-f9c98a556460",
   "metadata": {},
   "outputs": [],
   "source": [
    "# target variable - daily revenue\n",
    "y = train['target']\n",
    "# exogenous variables\n",
    "X = exog_train"
   ]
  },
  {
   "cell_type": "markdown",
   "id": "b580e548-d566-44c1-93f5-b7e0614fbf74",
   "metadata": {},
   "source": [
    "<h4>Melhores parâmetros: (0,2,1)x(1,2,1)</h4>"
   ]
  },
  {
   "cell_type": "code",
   "execution_count": 195,
   "id": "e5116113-2640-44d3-8d94-a7d7d081d944",
   "metadata": {},
   "outputs": [],
   "source": [
    "# Tuned Sarimax Model with the best parameters\n",
    "tuned_model = ARIMA(order = (1, 2, 2),\n",
    "                    seasonal_order = (0, 1, 1, 52))\n",
    "# fit the model, add exogenous variables as X\n",
    "tuned_model_fit = tuned_model.fit(y,X=X)"
   ]
  },
  {
   "cell_type": "code",
   "execution_count": 196,
   "id": "eefc1e6c-b01a-425c-b83a-1f1373dbb050",
   "metadata": {},
   "outputs": [],
   "source": [
    "# Salvar o modelo ajustado em um arquivo .pkl\n",
    "import pickle\n",
    "with open('modelo_arima.pkl', 'wb') as file:\n",
    "    pickle.dump(tuned_model, file)"
   ]
  },
  {
   "cell_type": "code",
   "execution_count": 214,
   "id": "426a31a2-a92b-4871-a769-a8785d6ea1e6",
   "metadata": {},
   "outputs": [],
   "source": [
    "# Supondo que você tenha novos dados em um arquivo CSV ou em formato pandas DataFrame\n",
    "novos_dados = pd.read_csv('df_eng_2.csv', index_col='data_hora',parse_dates=True)"
   ]
  },
  {
   "cell_type": "code",
   "execution_count": 215,
   "id": "fcd6ff64-f7ea-48e5-8b86-dc23a2467ac5",
   "metadata": {},
   "outputs": [
    {
     "data": {
      "text/plain": [
       "Index(['Unnamed: 0', 'Temp. Ins. (C)', 'Temp. Max. (C)', 'Temp. Min. (C)',\n",
       "       'Umi. Ins. (%)', 'Umi. Max. (%)', 'Umi. Min. (%)',\n",
       "       'Pto Orvalho Ins. (C)', 'Pto Orvalho Max. (C)', 'Pto Orvalho Min. (C)',\n",
       "       'Pressao Ins. (hPa)', 'Pressao Max. (hPa)', 'Pressao Min. (hPa)',\n",
       "       'Vel. Vento (m/s)', 'Dir. Vento (m/s)', 'Raj. Vento (m/s)',\n",
       "       'Radiacao (KJ/m²)', 'Chuva (mm)', 'Mes', 'Ano'],\n",
       "      dtype='object')"
      ]
     },
     "execution_count": 215,
     "metadata": {},
     "output_type": "execute_result"
    }
   ],
   "source": [
    "novos_dados.columns"
   ]
  },
  {
   "cell_type": "code",
   "execution_count": 216,
   "id": "d39cb3c3-1426-4d3f-bd89-b8f2362f157a",
   "metadata": {},
   "outputs": [],
   "source": [
    "novos_dados = novos_dados.drop([ 'Temp. Max. (C)', 'Temp. Min. (C)',\n",
    "       'Umi. Ins. (%)', 'Umi. Max. (%)', 'Umi. Min. (%)',\n",
    "       'Pto Orvalho Ins. (C)', 'Pto Orvalho Max. (C)', 'Pto Orvalho Min. (C)',\n",
    "       'Pressao Ins. (hPa)', 'Pressao Max. (hPa)', 'Pressao Min. (hPa)',\n",
    "       'Vel. Vento (m/s)', 'Dir. Vento (m/s)', 'Raj. Vento (m/s)',\n",
    "        'Chuva (mm)', 'Mes'],axis=1)"
   ]
  },
  {
   "cell_type": "code",
   "execution_count": 217,
   "id": "b138e4b8-ad1e-4864-a95c-7197346e4a11",
   "metadata": {},
   "outputs": [
    {
     "name": "stdout",
     "output_type": "stream",
     "text": [
      "            Temp. Ins. (C)   Ano  Radiacao (KJ/m²)\n",
      "data_hora                                         \n",
      "2023-01-29       22.969444  2023       1580.177778\n",
      "2023-02-05       24.509524  2023       1767.392857\n",
      "2023-02-12       25.157143  2023       1762.996429\n",
      "2023-02-19       25.451190  2023       1892.951190\n",
      "2023-02-26       24.008333  2023       1735.534524\n"
     ]
    }
   ],
   "source": [
    "# Reordenar as colunas do DataFrame\n",
    "new_order_2 = ['Temp. Ins. (C)', 'Ano', 'Radiacao (KJ/m²)']  # Substitua pelos nomes das colunas na ordem desejada\n",
    "novos_dados_2 = novos_dados[new_order_2]\n",
    "\n",
    "# Verificar o resultado\n",
    "print(novos_dados_2.head())\n"
   ]
  },
  {
   "cell_type": "code",
   "execution_count": 218,
   "id": "59c9343e-8cc6-44e7-b6f2-7d418d7169eb",
   "metadata": {},
   "outputs": [],
   "source": [
    "novos_dados_2.columns = ['exog1','exog2','target']"
   ]
  },
  {
   "cell_type": "code",
   "execution_count": 219,
   "id": "0b9dd0f9-ae80-4c4b-bc67-5d144d4da0aa",
   "metadata": {},
   "outputs": [],
   "source": [
    "exogenas_2025 = novos_dados_2[['exog1', 'exog2']]"
   ]
  },
  {
   "cell_type": "code",
   "execution_count": 220,
   "id": "bb72d761-ae44-4965-91bf-04687538e0a5",
   "metadata": {},
   "outputs": [
    {
     "data": {
      "text/html": [
       "<div>\n",
       "<style scoped>\n",
       "    .dataframe tbody tr th:only-of-type {\n",
       "        vertical-align: middle;\n",
       "    }\n",
       "\n",
       "    .dataframe tbody tr th {\n",
       "        vertical-align: top;\n",
       "    }\n",
       "\n",
       "    .dataframe thead th {\n",
       "        text-align: right;\n",
       "    }\n",
       "</style>\n",
       "<table border=\"1\" class=\"dataframe\">\n",
       "  <thead>\n",
       "    <tr style=\"text-align: right;\">\n",
       "      <th></th>\n",
       "      <th>exog1</th>\n",
       "      <th>exog2</th>\n",
       "      <th>target</th>\n",
       "    </tr>\n",
       "    <tr>\n",
       "      <th>data_hora</th>\n",
       "      <th></th>\n",
       "      <th></th>\n",
       "      <th></th>\n",
       "    </tr>\n",
       "  </thead>\n",
       "  <tbody>\n",
       "    <tr>\n",
       "      <th>2023-01-29</th>\n",
       "      <td>22.969444</td>\n",
       "      <td>2023</td>\n",
       "      <td>1580.177778</td>\n",
       "    </tr>\n",
       "    <tr>\n",
       "      <th>2023-02-05</th>\n",
       "      <td>24.509524</td>\n",
       "      <td>2023</td>\n",
       "      <td>1767.392857</td>\n",
       "    </tr>\n",
       "    <tr>\n",
       "      <th>2023-02-12</th>\n",
       "      <td>25.157143</td>\n",
       "      <td>2023</td>\n",
       "      <td>1762.996429</td>\n",
       "    </tr>\n",
       "    <tr>\n",
       "      <th>2023-02-19</th>\n",
       "      <td>25.451190</td>\n",
       "      <td>2023</td>\n",
       "      <td>1892.951190</td>\n",
       "    </tr>\n",
       "    <tr>\n",
       "      <th>2023-02-26</th>\n",
       "      <td>24.008333</td>\n",
       "      <td>2023</td>\n",
       "      <td>1735.534524</td>\n",
       "    </tr>\n",
       "    <tr>\n",
       "      <th>...</th>\n",
       "      <td>...</td>\n",
       "      <td>...</td>\n",
       "      <td>...</td>\n",
       "    </tr>\n",
       "    <tr>\n",
       "      <th>2024-12-01</th>\n",
       "      <td>24.511905</td>\n",
       "      <td>2024</td>\n",
       "      <td>1531.675000</td>\n",
       "    </tr>\n",
       "    <tr>\n",
       "      <th>2024-12-08</th>\n",
       "      <td>25.701786</td>\n",
       "      <td>2024</td>\n",
       "      <td>1733.853571</td>\n",
       "    </tr>\n",
       "    <tr>\n",
       "      <th>2024-12-15</th>\n",
       "      <td>24.872619</td>\n",
       "      <td>2024</td>\n",
       "      <td>1602.988095</td>\n",
       "    </tr>\n",
       "    <tr>\n",
       "      <th>2024-12-22</th>\n",
       "      <td>23.782143</td>\n",
       "      <td>2024</td>\n",
       "      <td>1494.103571</td>\n",
       "    </tr>\n",
       "    <tr>\n",
       "      <th>2024-12-29</th>\n",
       "      <td>23.147619</td>\n",
       "      <td>2024</td>\n",
       "      <td>1354.070238</td>\n",
       "    </tr>\n",
       "  </tbody>\n",
       "</table>\n",
       "<p>101 rows × 3 columns</p>\n",
       "</div>"
      ],
      "text/plain": [
       "                exog1  exog2       target\n",
       "data_hora                                \n",
       "2023-01-29  22.969444   2023  1580.177778\n",
       "2023-02-05  24.509524   2023  1767.392857\n",
       "2023-02-12  25.157143   2023  1762.996429\n",
       "2023-02-19  25.451190   2023  1892.951190\n",
       "2023-02-26  24.008333   2023  1735.534524\n",
       "...               ...    ...          ...\n",
       "2024-12-01  24.511905   2024  1531.675000\n",
       "2024-12-08  25.701786   2024  1733.853571\n",
       "2024-12-15  24.872619   2024  1602.988095\n",
       "2024-12-22  23.782143   2024  1494.103571\n",
       "2024-12-29  23.147619   2024  1354.070238\n",
       "\n",
       "[101 rows x 3 columns]"
      ]
     },
     "execution_count": 220,
     "metadata": {},
     "output_type": "execute_result"
    }
   ],
   "source": [
    "novos_dados_2"
   ]
  },
  {
   "cell_type": "code",
   "execution_count": 221,
   "id": "f033c252-196e-4fb1-ae94-e6ec88b288fa",
   "metadata": {},
   "outputs": [],
   "source": [
    "X_future = novos_dados_2.iloc[:, 0:2]"
   ]
  },
  {
   "cell_type": "code",
   "execution_count": 230,
   "id": "8dd63928-e5f7-4721-9cd9-87c3766e3c1e",
   "metadata": {},
   "outputs": [],
   "source": [
    "X_future_2 = X_future.tail(30)"
   ]
  },
  {
   "cell_type": "code",
   "execution_count": 231,
   "id": "1304c4fb-9eae-4bca-9075-80f04691c8e2",
   "metadata": {},
   "outputs": [
    {
     "data": {
      "text/plain": [
       "(30, 2)"
      ]
     },
     "execution_count": 231,
     "metadata": {},
     "output_type": "execute_result"
    }
   ],
   "source": [
    "X_future_2.shape"
   ]
  },
  {
   "cell_type": "code",
   "execution_count": 232,
   "id": "866d1e42-1f13-4b4f-87d4-b4945712fcea",
   "metadata": {},
   "outputs": [],
   "source": [
    "predictions = tuned_model_fit.predict(n_periods =len(X_future_2),\n",
    "                                  X = X_future_2)"
   ]
  },
  {
   "cell_type": "code",
   "execution_count": 233,
   "id": "76255776-2c6b-4cc5-b4ff-2437ad56d21a",
   "metadata": {},
   "outputs": [
    {
     "data": {
      "text/plain": [
       "2024-06-09    1623.690111\n",
       "2024-06-16    1413.042832\n",
       "2024-06-23    1823.276161\n",
       "2024-06-30    1965.276496\n",
       "2024-07-07    1883.658089\n",
       "2024-07-14    1633.357499\n",
       "2024-07-21    1573.394011\n",
       "2024-07-28    1777.892716\n",
       "2024-08-04    1880.661879\n",
       "2024-08-11    1818.748966\n",
       "2024-08-18    1947.118597\n",
       "2024-08-25    1722.782976\n",
       "2024-09-01    1801.276563\n",
       "2024-09-08    2451.586581\n",
       "2024-09-15    2188.539515\n",
       "2024-09-22    2341.488122\n",
       "2024-09-29    2175.830412\n",
       "2024-10-06    2293.654107\n",
       "2024-10-13    2259.158926\n",
       "2024-10-20    2071.077433\n",
       "2024-10-27    1921.244690\n",
       "2024-11-03    2013.172360\n",
       "2024-11-10    2186.734350\n",
       "2024-11-17    1833.540635\n",
       "2024-11-24    2035.758892\n",
       "2024-12-01    1959.686980\n",
       "2024-12-08    2464.482936\n",
       "2024-12-15    2364.307983\n",
       "2024-12-22    1989.747982\n",
       "2024-12-29    1826.758892\n",
       "Freq: W-SUN, dtype: float64"
      ]
     },
     "execution_count": 233,
     "metadata": {},
     "output_type": "execute_result"
    }
   ],
   "source": [
    "predictions"
   ]
  },
  {
   "cell_type": "code",
   "execution_count": 237,
   "id": "7ef36c19-5368-43bf-959d-17e6a213e5cf",
   "metadata": {},
   "outputs": [
    {
     "data": {
      "image/png": "[encoded data removed]",
      "text/plain": [
       "<Figure size 1000x600 with 1 Axes>"
      ]
     },
     "metadata": {},
     "output_type": "display_data"
    }
   ],
   "source": [
    "# Criando o gráfico\n",
    "plt.figure(figsize=(10, 6))\n",
    "\n",
    "# Plotando os dados de treino\n",
    "plt.plot(train.index,y, label='Treinamento', color='blue', linewidth=2)\n",
    "\n",
    "# Plotando os dados de teste\n",
    "plt.plot(test.index, test['target'], label='Teste', color='orange', linestyle='--', linewidth=2)\n",
    "\n",
    "# Plotando as previsões\n",
    "plt.plot(predictions.index, predictions, label='Previsões', color='green', linewidth=2)\n",
    "\n",
    "# Adicionando rótulos e título\n",
    "plt.title('Treinamento, Teste e Previsões')\n",
    "plt.xlabel('Data')\n",
    "plt.ylabel('Valor da Variável')\n",
    "plt.legend()\n",
    "\n",
    "# Exibindo o gráfico\n",
    "plt.xticks(rotation=45)\n",
    "#plt.grid(True)\n",
    "plt.tight_layout()\n",
    "plt.show()\n"
   ]
  },
  {
   "cell_type": "code",
   "execution_count": 234,
   "id": "0fea1ad9-4a00-4249-900f-c4b5c2b5cc05",
   "metadata": {},
   "outputs": [
    {
     "name": "stdout",
     "output_type": "stream",
     "text": [
      "The MAE is 420.20\n",
      "The RMSE is 500.09\n",
      "The MAPE is 29.08 %\n"
     ]
    }
   ],
   "source": [
    "mae = mean_absolute_error(test['target'], predictions)\n",
    "rmse = mean_squared_error(test['target'], predictions, squared = False)\n",
    "mape = mean_absolute_percentage_error(test['target'], predictions)\n",
    "print(f\"The MAE is {mae:.2f}\")\n",
    "print(f\"The RMSE is {rmse:.2f}\")\n",
    "print(f\"The MAPE is {100 * mape:.2f} %\")"
   ]
  },
  {
   "cell_type": "markdown",
   "id": "b831e006-a46c-4fc5-bb01-dd4c6cac7bdf",
   "metadata": {},
   "source": [
    "<h3>Prevendo o futuro</h3>"
   ]
  },
  {
   "cell_type": "code",
   "execution_count": 238,
   "id": "ed2df253-fe2c-4799-82d5-1fcbdeff7407",
   "metadata": {},
   "outputs": [
    {
     "data": {
      "image/png": "[encoded data removed]",
      "text/plain": [
       "<Figure size 1000x600 with 1 Axes>"
      ]
     },
     "metadata": {},
     "output_type": "display_data"
    },
    {
     "data": {
      "text/plain": [
       "<bound method NDFrame.to_csv of 2025-01-05    1795.126584\n",
       "2025-01-12    1627.246559\n",
       "2025-01-19    1859.207654\n",
       "2025-01-26    1632.756847\n",
       "2025-02-02    1932.425011\n",
       "2025-02-09    1502.989074\n",
       "Freq: W-SUN, dtype: float64>"
      ]
     },
     "execution_count": 238,
     "metadata": {},
     "output_type": "execute_result"
    }
   ],
   "source": [
    "# target variable - daily revenue\n",
    "y1 = df_reordered['target']\n",
    "# exogenous variables\n",
    "X1 = df_reordered[['exog1','exog2']]\n",
    "\n",
    "# Tuned Sarimax Model with the best parameters\n",
    "tuned_model = ARIMA(order = (1, 2, 2),\n",
    "                    seasonal_order = (0, 1, 1, 52))\n",
    "# fit the model, add exogenous variables as X\n",
    "tuned_model_fit = tuned_model.fit(y1,X=X1)\n",
    "\n",
    "# Salvar o modelo ajustado em um arquivo .pkl\n",
    "import pickle\n",
    "with open('modelo_arima.pkl', 'wb') as file:\n",
    "    pickle.dump(tuned_model, file)\n",
    "\n",
    "novos_dados_2025 = pd.read_csv('exogenas.csv', index_col='Data', parse_dates=True)\n",
    "\n",
    "# Renomeando as colunas, caso necessário, para se alinhar com as exógenas\n",
    "novos_dados_2025.columns = ['exog1', 'exog2']  # Substitua conforme as colunas corretas\n",
    "\n",
    "# Pegando as variáveis exógenas para 2025\n",
    "exogenas_2025 = novos_dados_2025[['exog1', 'exog2']]\n",
    "novos_dados.asfreq('W')\n",
    "X_future_2 = exogenas_2025.iloc[:, 0:2]\n",
    "\n",
    "\n",
    "predictions = tuned_model.predict(n_periods = len(X_future_2),\n",
    "                                  X = X_future_2)\n",
    "\n",
    "import matplotlib.pyplot as plt\n",
    "\n",
    "# Criando o gráfico\n",
    "plt.figure(figsize=(10, 6))\n",
    "\n",
    "# Plotando os dados do modelo (usando a coluna alvo ou série temporal original)\n",
    "plt.plot(df_reordered.index, df_reordered['target'], label='Dados do Modelo', color='blue', linewidth=2)\n",
    "\n",
    "# Plotando as previsões\n",
    "plt.plot(predictions.index, predictions, label='Previsões', color='green', linewidth=2)\n",
    "\n",
    "# Destacando os últimos 4 pontos das previsões\n",
    "ultimos_4_pontos = predictions.tail(4)\n",
    "plt.scatter(ultimos_4_pontos.index, ultimos_4_pontos, color='red', zorder=5, label='Últimos 4 Pontos')\n",
    "\n",
    "# Adicionando rótulos e título\n",
    "plt.title('Previsões com Destaque para os Últimos 4 Pontos')\n",
    "plt.xlabel('Data')\n",
    "plt.ylabel('Valor da Variável')\n",
    "plt.legend()\n",
    "\n",
    "# Exibindo o gráfico\n",
    "plt.xticks(rotation=45)\n",
    "plt.show()"
   ]
  },
  {
   "cell_type": "code",
   "execution_count": 239,
   "id": "844e39cd-4c67-45dc-9143-a4b03ffb59a4",
   "metadata": {},
   "outputs": [],
   "source": [
    "predictions.to_csv('previsoes_radiacao.csv',index=True)"
   ]
  },
  {
   "cell_type": "markdown",
   "id": "2df26560-8e24-4409-9b82-4e6ab1b83504",
   "metadata": {},
   "source": [
    "<h3>Comparação entre dados futuros previstos e dados reais </h3>"
   ]
  },
  {
   "cell_type": "code",
   "execution_count": 1,
   "id": "72436e03-bf26-4f42-9f93-ae7e979c628f",
   "metadata": {},
   "outputs": [],
   "source": [
    "import pandas as pd"
   ]
  },
  {
   "cell_type": "code",
   "execution_count": 2,
   "id": "ff4003b3-217b-4a28-946b-7541dd1850ff",
   "metadata": {},
   "outputs": [],
   "source": [
    "#Dados Reais\n",
    "dados_reais = pd.read_csv('jan_2025_xg.csv',index_col='data_hora')"
   ]
  },
  {
   "cell_type": "code",
   "execution_count": 3,
   "id": "c106361c-88fb-4e5d-991e-3a0f42ec68e7",
   "metadata": {},
   "outputs": [
    {
     "data": {
      "text/plain": [
       "data_hora\n",
       "2025-01-05    1450.613095\n",
       "2025-01-12    1394.551190\n",
       "2025-01-19    1472.630952\n",
       "2025-01-26    2000.155000\n",
       "Name: Radiacao (KJ/m²), dtype: float64"
      ]
     },
     "execution_count": 3,
     "metadata": {},
     "output_type": "execute_result"
    }
   ],
   "source": [
    "dados_reais['Radiacao (KJ/m²)'].head()"
   ]
  },
  {
   "cell_type": "code",
   "execution_count": 4,
   "id": "9a02487f-aa3b-49e7-8c0b-9f51eec965d2",
   "metadata": {},
   "outputs": [],
   "source": [
    "dados_previstos = pd.read_csv('previsoes_radiacao.csv')"
   ]
  },
  {
   "cell_type": "code",
   "execution_count": 5,
   "id": "3ce17aca-6325-4469-ad74-39a564f2e161",
   "metadata": {},
   "outputs": [],
   "source": [
    "dados_previstos.columns = ['Data','previsoes']"
   ]
  },
  {
   "cell_type": "code",
   "execution_count": 6,
   "id": "90a9cba8-0831-4d42-bb11-3e2113483d57",
   "metadata": {},
   "outputs": [
    {
     "data": {
      "text/html": [
       "<div>\n",
       "<style scoped>\n",
       "    .dataframe tbody tr th:only-of-type {\n",
       "        vertical-align: middle;\n",
       "    }\n",
       "\n",
       "    .dataframe tbody tr th {\n",
       "        vertical-align: top;\n",
       "    }\n",
       "\n",
       "    .dataframe thead th {\n",
       "        text-align: right;\n",
       "    }\n",
       "</style>\n",
       "<table border=\"1\" class=\"dataframe\">\n",
       "  <thead>\n",
       "    <tr style=\"text-align: right;\">\n",
       "      <th></th>\n",
       "      <th>Data</th>\n",
       "      <th>previsoes</th>\n",
       "    </tr>\n",
       "  </thead>\n",
       "  <tbody>\n",
       "    <tr>\n",
       "      <th>0</th>\n",
       "      <td>2025-01-05</td>\n",
       "      <td>1795.126584</td>\n",
       "    </tr>\n",
       "    <tr>\n",
       "      <th>1</th>\n",
       "      <td>2025-01-12</td>\n",
       "      <td>1627.246559</td>\n",
       "    </tr>\n",
       "    <tr>\n",
       "      <th>2</th>\n",
       "      <td>2025-01-19</td>\n",
       "      <td>1859.207654</td>\n",
       "    </tr>\n",
       "    <tr>\n",
       "      <th>3</th>\n",
       "      <td>2025-01-26</td>\n",
       "      <td>1632.756847</td>\n",
       "    </tr>\n",
       "    <tr>\n",
       "      <th>4</th>\n",
       "      <td>2025-02-02</td>\n",
       "      <td>1932.425011</td>\n",
       "    </tr>\n",
       "  </tbody>\n",
       "</table>\n",
       "</div>"
      ],
      "text/plain": [
       "         Data    previsoes\n",
       "0  2025-01-05  1795.126584\n",
       "1  2025-01-12  1627.246559\n",
       "2  2025-01-19  1859.207654\n",
       "3  2025-01-26  1632.756847\n",
       "4  2025-02-02  1932.425011"
      ]
     },
     "execution_count": 6,
     "metadata": {},
     "output_type": "execute_result"
    }
   ],
   "source": [
    "dados_previstos.head()"
   ]
  },
  {
   "cell_type": "code",
   "execution_count": 14,
   "id": "09464d38-3b0b-45f1-bc8d-e8ba69f70798",
   "metadata": {},
   "outputs": [],
   "source": [
    "dados_previstos_2 = dados_previstos.head(4)"
   ]
  },
  {
   "cell_type": "code",
   "execution_count": 15,
   "id": "ff7000f3-941f-4f7c-b334-0e9329838bec",
   "metadata": {},
   "outputs": [
    {
     "data": {
      "text/html": [
       "<div>\n",
       "<style scoped>\n",
       "    .dataframe tbody tr th:only-of-type {\n",
       "        vertical-align: middle;\n",
       "    }\n",
       "\n",
       "    .dataframe tbody tr th {\n",
       "        vertical-align: top;\n",
       "    }\n",
       "\n",
       "    .dataframe thead th {\n",
       "        text-align: right;\n",
       "    }\n",
       "</style>\n",
       "<table border=\"1\" class=\"dataframe\">\n",
       "  <thead>\n",
       "    <tr style=\"text-align: right;\">\n",
       "      <th></th>\n",
       "      <th>Data</th>\n",
       "      <th>previsoes</th>\n",
       "    </tr>\n",
       "  </thead>\n",
       "  <tbody>\n",
       "    <tr>\n",
       "      <th>0</th>\n",
       "      <td>2025-01-05</td>\n",
       "      <td>1795.126584</td>\n",
       "    </tr>\n",
       "    <tr>\n",
       "      <th>1</th>\n",
       "      <td>2025-01-12</td>\n",
       "      <td>1627.246559</td>\n",
       "    </tr>\n",
       "    <tr>\n",
       "      <th>2</th>\n",
       "      <td>2025-01-19</td>\n",
       "      <td>1859.207654</td>\n",
       "    </tr>\n",
       "    <tr>\n",
       "      <th>3</th>\n",
       "      <td>2025-01-26</td>\n",
       "      <td>1632.756847</td>\n",
       "    </tr>\n",
       "  </tbody>\n",
       "</table>\n",
       "</div>"
      ],
      "text/plain": [
       "         Data    previsoes\n",
       "0  2025-01-05  1795.126584\n",
       "1  2025-01-12  1627.246559\n",
       "2  2025-01-19  1859.207654\n",
       "3  2025-01-26  1632.756847"
      ]
     },
     "execution_count": 15,
     "metadata": {},
     "output_type": "execute_result"
    }
   ],
   "source": [
    "dados_previstos_2 "
   ]
  },
  {
   "cell_type": "code",
   "execution_count": 16,
   "id": "b857550e-a2c7-4bd1-ad41-91a50b82fa95",
   "metadata": {},
   "outputs": [
    {
     "data": {
      "image/png": "[encoded data removed]",
      "text/plain": [
       "<Figure size 1000x600 with 1 Axes>"
      ]
     },
     "metadata": {},
     "output_type": "display_data"
    }
   ],
   "source": [
    "import matplotlib.pyplot as plt\n",
    "\n",
    "# Aumentando o tamanho da figura para melhor visualização\n",
    "plt.figure(figsize=(10, 6))\n",
    "\n",
    "# Plotando os dados reais e previstos\n",
    "plt.plot(dados_reais['Radiacao (KJ/m²)'], label='Dados Reais de Janeiro de 2025', color='blue', linewidth=2)\n",
    "plt.plot(dados_previstos_2['previsoes'], label='Dados previstos de Janeiro de 2025', color='red', linestyle='--', linewidth=2)\n",
    "\n",
    "# Marcando os pontos dos dados reais\n",
    "plt.scatter(dados_reais.index, dados_reais['Radiacao (KJ/m²)'], color='blue', s=30, label='Pontos Reais', zorder=5)\n",
    "\n",
    "# Marcando os pontos dos dados previstos\n",
    "plt.scatter(dados_previstos_2.index, dados_previstos_2['previsoes'], color='red', s=30, label='Pontos Previstos', zorder=5)\n",
    "\n",
    "# Título e rótulos dos eixos\n",
    "plt.title('Previsões Futuras vs Dados Reais', fontsize=16)\n",
    "plt.xlabel('Tempo', fontsize=14)\n",
    "plt.ylabel('Radiacao (KJ/m²)', fontsize=14)\n",
    "\n",
    "# Personalizando os ticks do eixo x\n",
    "plt.xticks([])  # Remove os rótulos do eixo x\n",
    "\n",
    "# Adicionando a legenda\n",
    "plt.legend(fontsize=12)\n",
    "\n",
    "# Melhorando a grade para uma visualização mais suave\n",
    "plt.grid(True, linestyle=':', color='gray', alpha=0.7)\n",
    "\n",
    "# Exibindo o gráfico\n",
    "plt.tight_layout()  # Ajusta a disposição dos elementos para não sobrepor\n",
    "plt.show()\n"
   ]
  },
  {
   "cell_type": "code",
   "execution_count": 18,
   "id": "82d5707e-4497-4559-ad69-5b9eff1eae5d",
   "metadata": {},
   "outputs": [
    {
     "name": "stdout",
     "output_type": "stream",
     "text": [
      "RMSE: 338.10\n",
      "MAE: 332.80\n",
      "MAPE: 21.26%\n"
     ]
    }
   ],
   "source": [
    "import numpy as np\n",
    "from sklearn.metrics import mean_squared_error, mean_absolute_error\n",
    "\n",
    "# Obtendo os valores reais e previstos\n",
    "y_real = dados_reais['Radiacao (KJ/m²)'].values\n",
    "y_pred = dados_previstos_2['previsoes'].values\n",
    "\n",
    "# Calculando o RMSE\n",
    "rmse = np.sqrt(mean_squared_error(y_real, y_pred))\n",
    "\n",
    "# Calculando o MAE\n",
    "mae = mean_absolute_error(y_real, y_pred)\n",
    "\n",
    "# Calculando o MAPE\n",
    "mape = np.mean(np.abs((y_real - y_pred) / y_real)) * 100\n",
    "\n",
    "# Exibindo as métricas\n",
    "print(f'RMSE: {rmse:.2f}')\n",
    "print(f'MAE: {mae:.2f}')\n",
    "print(f'MAPE: {mape:.2f}%')\n"
   ]
  },
  {
   "cell_type": "code",
   "execution_count": null,
   "id": "33105579-873f-449a-8412-abe08fc7f76f",
   "metadata": {},
   "outputs": [],
   "source": []
  }
 ],
 "metadata": {
  "kernelspec": {
   "display_name": "Python 3 (ipykernel)",
   "language": "python",
   "name": "python3"
  },
  "language_info": {
   "codemirror_mode": {
    "name": "ipython",
    "version": 3
   },
   "file_extension": ".py",
   "mimetype": "text/x-python",
   "name": "python",
   "nbconvert_exporter": "python",
   "pygments_lexer": "ipython3",
   "version": "3.10.16"
  }
 },
 "nbformat": 4,
 "nbformat_minor": 5
}
