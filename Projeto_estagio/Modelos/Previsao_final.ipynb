{
 "cells": [
  {
   "cell_type": "markdown",
   "id": "374b6f74-acaf-4120-99e1-0167c0a5b1d6",
   "metadata": {},
   "source": [
    "<h3>Previsao NBEATS e SARIMAX</h3>"
   ]
  },
  {
   "cell_type": "code",
   "execution_count": 18,
   "id": "ced39638-e031-474d-9033-e99662c49f56",
   "metadata": {},
   "outputs": [
    {
     "name": "stdout",
     "output_type": "stream",
     "text": [
      "Temperatura de operação do painel: 21.83 °C\n",
      "Eficiência do painel: 18.23 %\n",
      "Energia gerada durante a semana: 24.8014 kWh\n"
     ]
    }
   ],
   "source": [
    "import numpy as np\n",
    "\n",
    "# Dados fornecidos\n",
    "T_amb = 23.22  # Temperatura ambiente (°C)\n",
    "G_kJ_m2 = 1632.75  # Irradiação solar em kJ/m²\n",
    "Pmax = 300  # Potência nominal máxima do painel (W)\n",
    "nstc = 0.18  # Eficiência do painel em condições padrão de teste (25ºC)\n",
    "alpha = 0.004  # Coeficiente de temperatura (%/°C)\n",
    "\n",
    "# Convertendo irradiância de kJ/m² para W/m² para uma semana\n",
    "G = G_kJ_m2 / 3.6  # Irradiação média em W/m²\n",
    "#G = 498\n",
    "\n",
    "# Passo 1: Calcular a temperatura de operação\n",
    "T_oper = T_amb + (alpha * (G - 800))  # Temperatura de operação (°C)\n",
    "\n",
    "# Passo 2: Calcular a eficiência do painel\n",
    "eficiencia = nstc * (1 - alpha * (T_oper - 25))  # Eficiência ajustada pela temperatura\n",
    "\n",
    "# Passo 3: Calcular a energia gerada (em kWh)\n",
    "energia = Pmax * G * eficiencia / 1000  # Energia gerada em kWh\n",
    "\n",
    "# Exibindo o resultado\n",
    "print(f\"Temperatura de operação do painel: {T_oper:.2f} °C\")\n",
    "print(f\"Eficiência do painel: {eficiencia*100:.2f} %\")\n",
    "print(f\"Energia gerada durante a semana: {energia:.4f} kWh\")\n"
   ]
  },
  {
   "cell_type": "markdown",
   "id": "c3949b76-8ec4-472c-91f2-4f97b4ae35f9",
   "metadata": {},
   "source": [
    "<h3>Previsao com o XGBoost</h3>"
   ]
  },
  {
   "cell_type": "code",
   "execution_count": 15,
   "id": "661c3d19-d500-4a02-ac33-91a59df3ed80",
   "metadata": {},
   "outputs": [
    {
     "name": "stdout",
     "output_type": "stream",
     "text": [
      "Temperatura de operação do painel: 24.35 °C\n",
      "Eficiência do painel: 18.05 %\n",
      "Energia gerada durante a semana: 26.3348 kWh\n"
     ]
    }
   ],
   "source": [
    "# Dados fornecidos\n",
    "T_amb = 25.60  # Temperatura ambiente (°C)\n",
    "G_kJ_m2 = 1751.07  # Irradiação solar em kJ/m²\n",
    "Pmax = 300  # Potência nominal máxima do painel (W)\n",
    "nstc = 0.18  # Eficiência do painel em condições padrão de teste (25ºC)\n",
    "alpha = 0.004  # Coeficiente de temperatura (%/°C)\n",
    "\n",
    "# Convertendo irradiância de kJ/m² para W/m² para uma semana\n",
    "G = G_kJ_m2 / 3.6  # Irradiação média em W/m²\n",
    "#G = 498\n",
    "\n",
    "# Passo 1: Calcular a temperatura de operação\n",
    "T_oper = T_amb + (alpha * (G - 800))  # Temperatura de operação (°C)\n",
    "\n",
    "# Passo 2: Calcular a eficiência do painel\n",
    "eficiencia = nstc * (1 - alpha * (T_oper - 25))  # Eficiência ajustada pela temperatura\n",
    "\n",
    "# Passo 3: Calcular a energia gerada (em kWh)\n",
    "energia = Pmax * G * eficiencia / 1000  # Energia gerada em kWh\n",
    "\n",
    "# Exibindo o resultado\n",
    "print(f\"Temperatura de operação do painel: {T_oper:.2f} °C\")\n",
    "print(f\"Eficiência do painel: {eficiencia*100:.2f} %\")\n",
    "print(f\"Energia gerada durante a semana: {energia:.4f} kWh\")"
   ]
  },
  {
   "cell_type": "code",
   "execution_count": null,
   "id": "7fd63ad7-5768-45da-8f32-3f2da7783f75",
   "metadata": {},
   "outputs": [],
   "source": []
  }
 ],
 "metadata": {
  "kernelspec": {
   "display_name": "Python 3 (ipykernel)",
   "language": "python",
   "name": "python3"
  },
  "language_info": {
   "codemirror_mode": {
    "name": "ipython",
    "version": 3
   },
   "file_extension": ".py",
   "mimetype": "text/x-python",
   "name": "python",
   "nbconvert_exporter": "python",
   "pygments_lexer": "ipython3",
   "version": "3.10.16"
  }
 },
 "nbformat": 4,
 "nbformat_minor": 5
}
