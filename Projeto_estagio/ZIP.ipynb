{
 "cells": [
  {
   "cell_type": "code",
   "execution_count": null,
   "id": "fc18936c-37e9-4056-8b13-57289ab73766",
   "metadata": {},
   "outputs": [],
   "source": []
  }
 ],
 "metadata": {
  "kernelspec": {
   "display_name": "",
   "name": ""
  },
  "language_info": {
   "name": ""
  }
 },
 "nbformat": 4,
 "nbformat_minor": 5
}
